{
  "nbformat": 4,
  "nbformat_minor": 0,
  "metadata": {
    "colab": {
      "name": "Vector Bayesian Opimization",
      "provenance": [],
      "collapsed_sections": [
        "u4evSKvXFXFE"
      ]
    },
    "kernelspec": {
      "name": "python3",
      "display_name": "Python 3"
    },
    "language_info": {
      "name": "python"
    },
    "accelerator": "GPU",
    "widgets": {
      "application/vnd.jupyter.widget-state+json": {
        "d03f6eb693944e4b909270ab0f7726ff": {
          "model_module": "@jupyter-widgets/controls",
          "model_name": "HBoxModel",
          "model_module_version": "1.5.0",
          "state": {
            "_dom_classes": [],
            "_model_module": "@jupyter-widgets/controls",
            "_model_module_version": "1.5.0",
            "_model_name": "HBoxModel",
            "_view_count": null,
            "_view_module": "@jupyter-widgets/controls",
            "_view_module_version": "1.5.0",
            "_view_name": "HBoxView",
            "box_style": "",
            "children": [
              "IPY_MODEL_226e7756fda34163a4c9af2b1515fb27",
              "IPY_MODEL_9796da9b7d45410eb6a2b9b1413158da",
              "IPY_MODEL_c21503b6914e40a7a85560f37ba3ad37"
            ],
            "layout": "IPY_MODEL_34b25baaadf54e84b25b0e268841881d"
          }
        },
        "226e7756fda34163a4c9af2b1515fb27": {
          "model_module": "@jupyter-widgets/controls",
          "model_name": "HTMLModel",
          "model_module_version": "1.5.0",
          "state": {
            "_dom_classes": [],
            "_model_module": "@jupyter-widgets/controls",
            "_model_module_version": "1.5.0",
            "_model_name": "HTMLModel",
            "_view_count": null,
            "_view_module": "@jupyter-widgets/controls",
            "_view_module_version": "1.5.0",
            "_view_name": "HTMLView",
            "description": "",
            "description_tooltip": null,
            "layout": "IPY_MODEL_0b35b7e4fe564a9986ea0e7a1d364706",
            "placeholder": "​",
            "style": "IPY_MODEL_159c6e7c5f784c2993ee96666f3a0eda",
            "value": "100%"
          }
        },
        "9796da9b7d45410eb6a2b9b1413158da": {
          "model_module": "@jupyter-widgets/controls",
          "model_name": "FloatProgressModel",
          "model_module_version": "1.5.0",
          "state": {
            "_dom_classes": [],
            "_model_module": "@jupyter-widgets/controls",
            "_model_module_version": "1.5.0",
            "_model_name": "FloatProgressModel",
            "_view_count": null,
            "_view_module": "@jupyter-widgets/controls",
            "_view_module_version": "1.5.0",
            "_view_name": "ProgressView",
            "bar_style": "success",
            "description": "",
            "description_tooltip": null,
            "layout": "IPY_MODEL_6243f2cd392d425db198a25e3b69278a",
            "max": 20,
            "min": 0,
            "orientation": "horizontal",
            "style": "IPY_MODEL_de9eba04ecdb4709aa6c6fe8fb27bf9a",
            "value": 20
          }
        },
        "c21503b6914e40a7a85560f37ba3ad37": {
          "model_module": "@jupyter-widgets/controls",
          "model_name": "HTMLModel",
          "model_module_version": "1.5.0",
          "state": {
            "_dom_classes": [],
            "_model_module": "@jupyter-widgets/controls",
            "_model_module_version": "1.5.0",
            "_model_name": "HTMLModel",
            "_view_count": null,
            "_view_module": "@jupyter-widgets/controls",
            "_view_module_version": "1.5.0",
            "_view_name": "HTMLView",
            "description": "",
            "description_tooltip": null,
            "layout": "IPY_MODEL_5e518797bf7547ffa0da851daf1028de",
            "placeholder": "​",
            "style": "IPY_MODEL_cf941422a0c54a19b27b1066866c2fc8",
            "value": " 20/20 [00:12&lt;00:00,  1.61it/s]"
          }
        },
        "34b25baaadf54e84b25b0e268841881d": {
          "model_module": "@jupyter-widgets/base",
          "model_name": "LayoutModel",
          "model_module_version": "1.2.0",
          "state": {
            "_model_module": "@jupyter-widgets/base",
            "_model_module_version": "1.2.0",
            "_model_name": "LayoutModel",
            "_view_count": null,
            "_view_module": "@jupyter-widgets/base",
            "_view_module_version": "1.2.0",
            "_view_name": "LayoutView",
            "align_content": null,
            "align_items": null,
            "align_self": null,
            "border": null,
            "bottom": null,
            "display": null,
            "flex": null,
            "flex_flow": null,
            "grid_area": null,
            "grid_auto_columns": null,
            "grid_auto_flow": null,
            "grid_auto_rows": null,
            "grid_column": null,
            "grid_gap": null,
            "grid_row": null,
            "grid_template_areas": null,
            "grid_template_columns": null,
            "grid_template_rows": null,
            "height": null,
            "justify_content": null,
            "justify_items": null,
            "left": null,
            "margin": null,
            "max_height": null,
            "max_width": null,
            "min_height": null,
            "min_width": null,
            "object_fit": null,
            "object_position": null,
            "order": null,
            "overflow": null,
            "overflow_x": null,
            "overflow_y": null,
            "padding": null,
            "right": null,
            "top": null,
            "visibility": null,
            "width": null
          }
        },
        "0b35b7e4fe564a9986ea0e7a1d364706": {
          "model_module": "@jupyter-widgets/base",
          "model_name": "LayoutModel",
          "model_module_version": "1.2.0",
          "state": {
            "_model_module": "@jupyter-widgets/base",
            "_model_module_version": "1.2.0",
            "_model_name": "LayoutModel",
            "_view_count": null,
            "_view_module": "@jupyter-widgets/base",
            "_view_module_version": "1.2.0",
            "_view_name": "LayoutView",
            "align_content": null,
            "align_items": null,
            "align_self": null,
            "border": null,
            "bottom": null,
            "display": null,
            "flex": null,
            "flex_flow": null,
            "grid_area": null,
            "grid_auto_columns": null,
            "grid_auto_flow": null,
            "grid_auto_rows": null,
            "grid_column": null,
            "grid_gap": null,
            "grid_row": null,
            "grid_template_areas": null,
            "grid_template_columns": null,
            "grid_template_rows": null,
            "height": null,
            "justify_content": null,
            "justify_items": null,
            "left": null,
            "margin": null,
            "max_height": null,
            "max_width": null,
            "min_height": null,
            "min_width": null,
            "object_fit": null,
            "object_position": null,
            "order": null,
            "overflow": null,
            "overflow_x": null,
            "overflow_y": null,
            "padding": null,
            "right": null,
            "top": null,
            "visibility": null,
            "width": null
          }
        },
        "159c6e7c5f784c2993ee96666f3a0eda": {
          "model_module": "@jupyter-widgets/controls",
          "model_name": "DescriptionStyleModel",
          "model_module_version": "1.5.0",
          "state": {
            "_model_module": "@jupyter-widgets/controls",
            "_model_module_version": "1.5.0",
            "_model_name": "DescriptionStyleModel",
            "_view_count": null,
            "_view_module": "@jupyter-widgets/base",
            "_view_module_version": "1.2.0",
            "_view_name": "StyleView",
            "description_width": ""
          }
        },
        "6243f2cd392d425db198a25e3b69278a": {
          "model_module": "@jupyter-widgets/base",
          "model_name": "LayoutModel",
          "model_module_version": "1.2.0",
          "state": {
            "_model_module": "@jupyter-widgets/base",
            "_model_module_version": "1.2.0",
            "_model_name": "LayoutModel",
            "_view_count": null,
            "_view_module": "@jupyter-widgets/base",
            "_view_module_version": "1.2.0",
            "_view_name": "LayoutView",
            "align_content": null,
            "align_items": null,
            "align_self": null,
            "border": null,
            "bottom": null,
            "display": null,
            "flex": null,
            "flex_flow": null,
            "grid_area": null,
            "grid_auto_columns": null,
            "grid_auto_flow": null,
            "grid_auto_rows": null,
            "grid_column": null,
            "grid_gap": null,
            "grid_row": null,
            "grid_template_areas": null,
            "grid_template_columns": null,
            "grid_template_rows": null,
            "height": null,
            "justify_content": null,
            "justify_items": null,
            "left": null,
            "margin": null,
            "max_height": null,
            "max_width": null,
            "min_height": null,
            "min_width": null,
            "object_fit": null,
            "object_position": null,
            "order": null,
            "overflow": null,
            "overflow_x": null,
            "overflow_y": null,
            "padding": null,
            "right": null,
            "top": null,
            "visibility": null,
            "width": null
          }
        },
        "de9eba04ecdb4709aa6c6fe8fb27bf9a": {
          "model_module": "@jupyter-widgets/controls",
          "model_name": "ProgressStyleModel",
          "model_module_version": "1.5.0",
          "state": {
            "_model_module": "@jupyter-widgets/controls",
            "_model_module_version": "1.5.0",
            "_model_name": "ProgressStyleModel",
            "_view_count": null,
            "_view_module": "@jupyter-widgets/base",
            "_view_module_version": "1.2.0",
            "_view_name": "StyleView",
            "bar_color": null,
            "description_width": ""
          }
        },
        "5e518797bf7547ffa0da851daf1028de": {
          "model_module": "@jupyter-widgets/base",
          "model_name": "LayoutModel",
          "model_module_version": "1.2.0",
          "state": {
            "_model_module": "@jupyter-widgets/base",
            "_model_module_version": "1.2.0",
            "_model_name": "LayoutModel",
            "_view_count": null,
            "_view_module": "@jupyter-widgets/base",
            "_view_module_version": "1.2.0",
            "_view_name": "LayoutView",
            "align_content": null,
            "align_items": null,
            "align_self": null,
            "border": null,
            "bottom": null,
            "display": null,
            "flex": null,
            "flex_flow": null,
            "grid_area": null,
            "grid_auto_columns": null,
            "grid_auto_flow": null,
            "grid_auto_rows": null,
            "grid_column": null,
            "grid_gap": null,
            "grid_row": null,
            "grid_template_areas": null,
            "grid_template_columns": null,
            "grid_template_rows": null,
            "height": null,
            "justify_content": null,
            "justify_items": null,
            "left": null,
            "margin": null,
            "max_height": null,
            "max_width": null,
            "min_height": null,
            "min_width": null,
            "object_fit": null,
            "object_position": null,
            "order": null,
            "overflow": null,
            "overflow_x": null,
            "overflow_y": null,
            "padding": null,
            "right": null,
            "top": null,
            "visibility": null,
            "width": null
          }
        },
        "cf941422a0c54a19b27b1066866c2fc8": {
          "model_module": "@jupyter-widgets/controls",
          "model_name": "DescriptionStyleModel",
          "model_module_version": "1.5.0",
          "state": {
            "_model_module": "@jupyter-widgets/controls",
            "_model_module_version": "1.5.0",
            "_model_name": "DescriptionStyleModel",
            "_view_count": null,
            "_view_module": "@jupyter-widgets/base",
            "_view_module_version": "1.2.0",
            "_view_name": "StyleView",
            "description_width": ""
          }
        },
        "7175166a6e564fb58cea539227b0e8c8": {
          "model_module": "@jupyter-widgets/controls",
          "model_name": "HBoxModel",
          "model_module_version": "1.5.0",
          "state": {
            "_dom_classes": [],
            "_model_module": "@jupyter-widgets/controls",
            "_model_module_version": "1.5.0",
            "_model_name": "HBoxModel",
            "_view_count": null,
            "_view_module": "@jupyter-widgets/controls",
            "_view_module_version": "1.5.0",
            "_view_name": "HBoxView",
            "box_style": "",
            "children": [
              "IPY_MODEL_550c307258564a619b2389e8ca15eb21",
              "IPY_MODEL_a5e58590e9f24fa4b585b81b034e1a37",
              "IPY_MODEL_dafce6ebdcca44b78f4a0ff744773b61"
            ],
            "layout": "IPY_MODEL_da1fdc4dee284e3fa0c0054522bf2de4"
          }
        },
        "550c307258564a619b2389e8ca15eb21": {
          "model_module": "@jupyter-widgets/controls",
          "model_name": "HTMLModel",
          "model_module_version": "1.5.0",
          "state": {
            "_dom_classes": [],
            "_model_module": "@jupyter-widgets/controls",
            "_model_module_version": "1.5.0",
            "_model_name": "HTMLModel",
            "_view_count": null,
            "_view_module": "@jupyter-widgets/controls",
            "_view_module_version": "1.5.0",
            "_view_name": "HTMLView",
            "description": "",
            "description_tooltip": null,
            "layout": "IPY_MODEL_86ef6b21e08549c6a8eaafa427bbb03c",
            "placeholder": "​",
            "style": "IPY_MODEL_934bb217bbfc44f39829ce1c016b5984",
            "value": ""
          }
        },
        "a5e58590e9f24fa4b585b81b034e1a37": {
          "model_module": "@jupyter-widgets/controls",
          "model_name": "FloatProgressModel",
          "model_module_version": "1.5.0",
          "state": {
            "_dom_classes": [],
            "_model_module": "@jupyter-widgets/controls",
            "_model_module_version": "1.5.0",
            "_model_name": "FloatProgressModel",
            "_view_count": null,
            "_view_module": "@jupyter-widgets/controls",
            "_view_module_version": "1.5.0",
            "_view_name": "ProgressView",
            "bar_style": "success",
            "description": "",
            "description_tooltip": null,
            "layout": "IPY_MODEL_366076982e1a42d0b15c51bb94cb16a9",
            "max": 9912422,
            "min": 0,
            "orientation": "horizontal",
            "style": "IPY_MODEL_392ff27531f94a3b8831216b2a245f74",
            "value": 9912422
          }
        },
        "dafce6ebdcca44b78f4a0ff744773b61": {
          "model_module": "@jupyter-widgets/controls",
          "model_name": "HTMLModel",
          "model_module_version": "1.5.0",
          "state": {
            "_dom_classes": [],
            "_model_module": "@jupyter-widgets/controls",
            "_model_module_version": "1.5.0",
            "_model_name": "HTMLModel",
            "_view_count": null,
            "_view_module": "@jupyter-widgets/controls",
            "_view_module_version": "1.5.0",
            "_view_name": "HTMLView",
            "description": "",
            "description_tooltip": null,
            "layout": "IPY_MODEL_b5985efabd0c4f8985b646c2ab8184e0",
            "placeholder": "​",
            "style": "IPY_MODEL_f8f6d4f2b9b64152a93ab3539866e7c8",
            "value": " 9913344/? [00:00&lt;00:00, 29924687.24it/s]"
          }
        },
        "da1fdc4dee284e3fa0c0054522bf2de4": {
          "model_module": "@jupyter-widgets/base",
          "model_name": "LayoutModel",
          "model_module_version": "1.2.0",
          "state": {
            "_model_module": "@jupyter-widgets/base",
            "_model_module_version": "1.2.0",
            "_model_name": "LayoutModel",
            "_view_count": null,
            "_view_module": "@jupyter-widgets/base",
            "_view_module_version": "1.2.0",
            "_view_name": "LayoutView",
            "align_content": null,
            "align_items": null,
            "align_self": null,
            "border": null,
            "bottom": null,
            "display": null,
            "flex": null,
            "flex_flow": null,
            "grid_area": null,
            "grid_auto_columns": null,
            "grid_auto_flow": null,
            "grid_auto_rows": null,
            "grid_column": null,
            "grid_gap": null,
            "grid_row": null,
            "grid_template_areas": null,
            "grid_template_columns": null,
            "grid_template_rows": null,
            "height": null,
            "justify_content": null,
            "justify_items": null,
            "left": null,
            "margin": null,
            "max_height": null,
            "max_width": null,
            "min_height": null,
            "min_width": null,
            "object_fit": null,
            "object_position": null,
            "order": null,
            "overflow": null,
            "overflow_x": null,
            "overflow_y": null,
            "padding": null,
            "right": null,
            "top": null,
            "visibility": null,
            "width": null
          }
        },
        "86ef6b21e08549c6a8eaafa427bbb03c": {
          "model_module": "@jupyter-widgets/base",
          "model_name": "LayoutModel",
          "model_module_version": "1.2.0",
          "state": {
            "_model_module": "@jupyter-widgets/base",
            "_model_module_version": "1.2.0",
            "_model_name": "LayoutModel",
            "_view_count": null,
            "_view_module": "@jupyter-widgets/base",
            "_view_module_version": "1.2.0",
            "_view_name": "LayoutView",
            "align_content": null,
            "align_items": null,
            "align_self": null,
            "border": null,
            "bottom": null,
            "display": null,
            "flex": null,
            "flex_flow": null,
            "grid_area": null,
            "grid_auto_columns": null,
            "grid_auto_flow": null,
            "grid_auto_rows": null,
            "grid_column": null,
            "grid_gap": null,
            "grid_row": null,
            "grid_template_areas": null,
            "grid_template_columns": null,
            "grid_template_rows": null,
            "height": null,
            "justify_content": null,
            "justify_items": null,
            "left": null,
            "margin": null,
            "max_height": null,
            "max_width": null,
            "min_height": null,
            "min_width": null,
            "object_fit": null,
            "object_position": null,
            "order": null,
            "overflow": null,
            "overflow_x": null,
            "overflow_y": null,
            "padding": null,
            "right": null,
            "top": null,
            "visibility": null,
            "width": null
          }
        },
        "934bb217bbfc44f39829ce1c016b5984": {
          "model_module": "@jupyter-widgets/controls",
          "model_name": "DescriptionStyleModel",
          "model_module_version": "1.5.0",
          "state": {
            "_model_module": "@jupyter-widgets/controls",
            "_model_module_version": "1.5.0",
            "_model_name": "DescriptionStyleModel",
            "_view_count": null,
            "_view_module": "@jupyter-widgets/base",
            "_view_module_version": "1.2.0",
            "_view_name": "StyleView",
            "description_width": ""
          }
        },
        "366076982e1a42d0b15c51bb94cb16a9": {
          "model_module": "@jupyter-widgets/base",
          "model_name": "LayoutModel",
          "model_module_version": "1.2.0",
          "state": {
            "_model_module": "@jupyter-widgets/base",
            "_model_module_version": "1.2.0",
            "_model_name": "LayoutModel",
            "_view_count": null,
            "_view_module": "@jupyter-widgets/base",
            "_view_module_version": "1.2.0",
            "_view_name": "LayoutView",
            "align_content": null,
            "align_items": null,
            "align_self": null,
            "border": null,
            "bottom": null,
            "display": null,
            "flex": null,
            "flex_flow": null,
            "grid_area": null,
            "grid_auto_columns": null,
            "grid_auto_flow": null,
            "grid_auto_rows": null,
            "grid_column": null,
            "grid_gap": null,
            "grid_row": null,
            "grid_template_areas": null,
            "grid_template_columns": null,
            "grid_template_rows": null,
            "height": null,
            "justify_content": null,
            "justify_items": null,
            "left": null,
            "margin": null,
            "max_height": null,
            "max_width": null,
            "min_height": null,
            "min_width": null,
            "object_fit": null,
            "object_position": null,
            "order": null,
            "overflow": null,
            "overflow_x": null,
            "overflow_y": null,
            "padding": null,
            "right": null,
            "top": null,
            "visibility": null,
            "width": null
          }
        },
        "392ff27531f94a3b8831216b2a245f74": {
          "model_module": "@jupyter-widgets/controls",
          "model_name": "ProgressStyleModel",
          "model_module_version": "1.5.0",
          "state": {
            "_model_module": "@jupyter-widgets/controls",
            "_model_module_version": "1.5.0",
            "_model_name": "ProgressStyleModel",
            "_view_count": null,
            "_view_module": "@jupyter-widgets/base",
            "_view_module_version": "1.2.0",
            "_view_name": "StyleView",
            "bar_color": null,
            "description_width": ""
          }
        },
        "b5985efabd0c4f8985b646c2ab8184e0": {
          "model_module": "@jupyter-widgets/base",
          "model_name": "LayoutModel",
          "model_module_version": "1.2.0",
          "state": {
            "_model_module": "@jupyter-widgets/base",
            "_model_module_version": "1.2.0",
            "_model_name": "LayoutModel",
            "_view_count": null,
            "_view_module": "@jupyter-widgets/base",
            "_view_module_version": "1.2.0",
            "_view_name": "LayoutView",
            "align_content": null,
            "align_items": null,
            "align_self": null,
            "border": null,
            "bottom": null,
            "display": null,
            "flex": null,
            "flex_flow": null,
            "grid_area": null,
            "grid_auto_columns": null,
            "grid_auto_flow": null,
            "grid_auto_rows": null,
            "grid_column": null,
            "grid_gap": null,
            "grid_row": null,
            "grid_template_areas": null,
            "grid_template_columns": null,
            "grid_template_rows": null,
            "height": null,
            "justify_content": null,
            "justify_items": null,
            "left": null,
            "margin": null,
            "max_height": null,
            "max_width": null,
            "min_height": null,
            "min_width": null,
            "object_fit": null,
            "object_position": null,
            "order": null,
            "overflow": null,
            "overflow_x": null,
            "overflow_y": null,
            "padding": null,
            "right": null,
            "top": null,
            "visibility": null,
            "width": null
          }
        },
        "f8f6d4f2b9b64152a93ab3539866e7c8": {
          "model_module": "@jupyter-widgets/controls",
          "model_name": "DescriptionStyleModel",
          "model_module_version": "1.5.0",
          "state": {
            "_model_module": "@jupyter-widgets/controls",
            "_model_module_version": "1.5.0",
            "_model_name": "DescriptionStyleModel",
            "_view_count": null,
            "_view_module": "@jupyter-widgets/base",
            "_view_module_version": "1.2.0",
            "_view_name": "StyleView",
            "description_width": ""
          }
        },
        "f1c4b0594dc746f6b588222e4dfe95ed": {
          "model_module": "@jupyter-widgets/controls",
          "model_name": "HBoxModel",
          "model_module_version": "1.5.0",
          "state": {
            "_dom_classes": [],
            "_model_module": "@jupyter-widgets/controls",
            "_model_module_version": "1.5.0",
            "_model_name": "HBoxModel",
            "_view_count": null,
            "_view_module": "@jupyter-widgets/controls",
            "_view_module_version": "1.5.0",
            "_view_name": "HBoxView",
            "box_style": "",
            "children": [
              "IPY_MODEL_082cfa26f1db42afb3f12a42983b0f19",
              "IPY_MODEL_55abb300c1e346bd814810677ff79d80",
              "IPY_MODEL_2974b7e3e3a640f3825a2073cbfbb106"
            ],
            "layout": "IPY_MODEL_b92b99c24daf4760a15e3af1406d8042"
          }
        },
        "082cfa26f1db42afb3f12a42983b0f19": {
          "model_module": "@jupyter-widgets/controls",
          "model_name": "HTMLModel",
          "model_module_version": "1.5.0",
          "state": {
            "_dom_classes": [],
            "_model_module": "@jupyter-widgets/controls",
            "_model_module_version": "1.5.0",
            "_model_name": "HTMLModel",
            "_view_count": null,
            "_view_module": "@jupyter-widgets/controls",
            "_view_module_version": "1.5.0",
            "_view_name": "HTMLView",
            "description": "",
            "description_tooltip": null,
            "layout": "IPY_MODEL_4e5ddcf4c5b6499199dc7ac8fa57edf2",
            "placeholder": "​",
            "style": "IPY_MODEL_3793268791664d8a9f7c107e6be9fc68",
            "value": ""
          }
        },
        "55abb300c1e346bd814810677ff79d80": {
          "model_module": "@jupyter-widgets/controls",
          "model_name": "FloatProgressModel",
          "model_module_version": "1.5.0",
          "state": {
            "_dom_classes": [],
            "_model_module": "@jupyter-widgets/controls",
            "_model_module_version": "1.5.0",
            "_model_name": "FloatProgressModel",
            "_view_count": null,
            "_view_module": "@jupyter-widgets/controls",
            "_view_module_version": "1.5.0",
            "_view_name": "ProgressView",
            "bar_style": "success",
            "description": "",
            "description_tooltip": null,
            "layout": "IPY_MODEL_7d7c1d201b83413497b34d959853dd7e",
            "max": 28881,
            "min": 0,
            "orientation": "horizontal",
            "style": "IPY_MODEL_029a668f6f9b4a019035987c0723baaf",
            "value": 28881
          }
        },
        "2974b7e3e3a640f3825a2073cbfbb106": {
          "model_module": "@jupyter-widgets/controls",
          "model_name": "HTMLModel",
          "model_module_version": "1.5.0",
          "state": {
            "_dom_classes": [],
            "_model_module": "@jupyter-widgets/controls",
            "_model_module_version": "1.5.0",
            "_model_name": "HTMLModel",
            "_view_count": null,
            "_view_module": "@jupyter-widgets/controls",
            "_view_module_version": "1.5.0",
            "_view_name": "HTMLView",
            "description": "",
            "description_tooltip": null,
            "layout": "IPY_MODEL_55fe48c7882d4b71a3eb76740d7ca7de",
            "placeholder": "​",
            "style": "IPY_MODEL_1b7add9516564c46bf7068619cd8ea1f",
            "value": " 29696/? [00:00&lt;00:00, 621614.06it/s]"
          }
        },
        "b92b99c24daf4760a15e3af1406d8042": {
          "model_module": "@jupyter-widgets/base",
          "model_name": "LayoutModel",
          "model_module_version": "1.2.0",
          "state": {
            "_model_module": "@jupyter-widgets/base",
            "_model_module_version": "1.2.0",
            "_model_name": "LayoutModel",
            "_view_count": null,
            "_view_module": "@jupyter-widgets/base",
            "_view_module_version": "1.2.0",
            "_view_name": "LayoutView",
            "align_content": null,
            "align_items": null,
            "align_self": null,
            "border": null,
            "bottom": null,
            "display": null,
            "flex": null,
            "flex_flow": null,
            "grid_area": null,
            "grid_auto_columns": null,
            "grid_auto_flow": null,
            "grid_auto_rows": null,
            "grid_column": null,
            "grid_gap": null,
            "grid_row": null,
            "grid_template_areas": null,
            "grid_template_columns": null,
            "grid_template_rows": null,
            "height": null,
            "justify_content": null,
            "justify_items": null,
            "left": null,
            "margin": null,
            "max_height": null,
            "max_width": null,
            "min_height": null,
            "min_width": null,
            "object_fit": null,
            "object_position": null,
            "order": null,
            "overflow": null,
            "overflow_x": null,
            "overflow_y": null,
            "padding": null,
            "right": null,
            "top": null,
            "visibility": null,
            "width": null
          }
        },
        "4e5ddcf4c5b6499199dc7ac8fa57edf2": {
          "model_module": "@jupyter-widgets/base",
          "model_name": "LayoutModel",
          "model_module_version": "1.2.0",
          "state": {
            "_model_module": "@jupyter-widgets/base",
            "_model_module_version": "1.2.0",
            "_model_name": "LayoutModel",
            "_view_count": null,
            "_view_module": "@jupyter-widgets/base",
            "_view_module_version": "1.2.0",
            "_view_name": "LayoutView",
            "align_content": null,
            "align_items": null,
            "align_self": null,
            "border": null,
            "bottom": null,
            "display": null,
            "flex": null,
            "flex_flow": null,
            "grid_area": null,
            "grid_auto_columns": null,
            "grid_auto_flow": null,
            "grid_auto_rows": null,
            "grid_column": null,
            "grid_gap": null,
            "grid_row": null,
            "grid_template_areas": null,
            "grid_template_columns": null,
            "grid_template_rows": null,
            "height": null,
            "justify_content": null,
            "justify_items": null,
            "left": null,
            "margin": null,
            "max_height": null,
            "max_width": null,
            "min_height": null,
            "min_width": null,
            "object_fit": null,
            "object_position": null,
            "order": null,
            "overflow": null,
            "overflow_x": null,
            "overflow_y": null,
            "padding": null,
            "right": null,
            "top": null,
            "visibility": null,
            "width": null
          }
        },
        "3793268791664d8a9f7c107e6be9fc68": {
          "model_module": "@jupyter-widgets/controls",
          "model_name": "DescriptionStyleModel",
          "model_module_version": "1.5.0",
          "state": {
            "_model_module": "@jupyter-widgets/controls",
            "_model_module_version": "1.5.0",
            "_model_name": "DescriptionStyleModel",
            "_view_count": null,
            "_view_module": "@jupyter-widgets/base",
            "_view_module_version": "1.2.0",
            "_view_name": "StyleView",
            "description_width": ""
          }
        },
        "7d7c1d201b83413497b34d959853dd7e": {
          "model_module": "@jupyter-widgets/base",
          "model_name": "LayoutModel",
          "model_module_version": "1.2.0",
          "state": {
            "_model_module": "@jupyter-widgets/base",
            "_model_module_version": "1.2.0",
            "_model_name": "LayoutModel",
            "_view_count": null,
            "_view_module": "@jupyter-widgets/base",
            "_view_module_version": "1.2.0",
            "_view_name": "LayoutView",
            "align_content": null,
            "align_items": null,
            "align_self": null,
            "border": null,
            "bottom": null,
            "display": null,
            "flex": null,
            "flex_flow": null,
            "grid_area": null,
            "grid_auto_columns": null,
            "grid_auto_flow": null,
            "grid_auto_rows": null,
            "grid_column": null,
            "grid_gap": null,
            "grid_row": null,
            "grid_template_areas": null,
            "grid_template_columns": null,
            "grid_template_rows": null,
            "height": null,
            "justify_content": null,
            "justify_items": null,
            "left": null,
            "margin": null,
            "max_height": null,
            "max_width": null,
            "min_height": null,
            "min_width": null,
            "object_fit": null,
            "object_position": null,
            "order": null,
            "overflow": null,
            "overflow_x": null,
            "overflow_y": null,
            "padding": null,
            "right": null,
            "top": null,
            "visibility": null,
            "width": null
          }
        },
        "029a668f6f9b4a019035987c0723baaf": {
          "model_module": "@jupyter-widgets/controls",
          "model_name": "ProgressStyleModel",
          "model_module_version": "1.5.0",
          "state": {
            "_model_module": "@jupyter-widgets/controls",
            "_model_module_version": "1.5.0",
            "_model_name": "ProgressStyleModel",
            "_view_count": null,
            "_view_module": "@jupyter-widgets/base",
            "_view_module_version": "1.2.0",
            "_view_name": "StyleView",
            "bar_color": null,
            "description_width": ""
          }
        },
        "55fe48c7882d4b71a3eb76740d7ca7de": {
          "model_module": "@jupyter-widgets/base",
          "model_name": "LayoutModel",
          "model_module_version": "1.2.0",
          "state": {
            "_model_module": "@jupyter-widgets/base",
            "_model_module_version": "1.2.0",
            "_model_name": "LayoutModel",
            "_view_count": null,
            "_view_module": "@jupyter-widgets/base",
            "_view_module_version": "1.2.0",
            "_view_name": "LayoutView",
            "align_content": null,
            "align_items": null,
            "align_self": null,
            "border": null,
            "bottom": null,
            "display": null,
            "flex": null,
            "flex_flow": null,
            "grid_area": null,
            "grid_auto_columns": null,
            "grid_auto_flow": null,
            "grid_auto_rows": null,
            "grid_column": null,
            "grid_gap": null,
            "grid_row": null,
            "grid_template_areas": null,
            "grid_template_columns": null,
            "grid_template_rows": null,
            "height": null,
            "justify_content": null,
            "justify_items": null,
            "left": null,
            "margin": null,
            "max_height": null,
            "max_width": null,
            "min_height": null,
            "min_width": null,
            "object_fit": null,
            "object_position": null,
            "order": null,
            "overflow": null,
            "overflow_x": null,
            "overflow_y": null,
            "padding": null,
            "right": null,
            "top": null,
            "visibility": null,
            "width": null
          }
        },
        "1b7add9516564c46bf7068619cd8ea1f": {
          "model_module": "@jupyter-widgets/controls",
          "model_name": "DescriptionStyleModel",
          "model_module_version": "1.5.0",
          "state": {
            "_model_module": "@jupyter-widgets/controls",
            "_model_module_version": "1.5.0",
            "_model_name": "DescriptionStyleModel",
            "_view_count": null,
            "_view_module": "@jupyter-widgets/base",
            "_view_module_version": "1.2.0",
            "_view_name": "StyleView",
            "description_width": ""
          }
        },
        "a657ed68edc0403db4c7698198f640c1": {
          "model_module": "@jupyter-widgets/controls",
          "model_name": "HBoxModel",
          "model_module_version": "1.5.0",
          "state": {
            "_dom_classes": [],
            "_model_module": "@jupyter-widgets/controls",
            "_model_module_version": "1.5.0",
            "_model_name": "HBoxModel",
            "_view_count": null,
            "_view_module": "@jupyter-widgets/controls",
            "_view_module_version": "1.5.0",
            "_view_name": "HBoxView",
            "box_style": "",
            "children": [
              "IPY_MODEL_f8818ff9c3724a499210c8994b71f5cd",
              "IPY_MODEL_84d561dd4ab84a9597ac39921da2d0ba",
              "IPY_MODEL_b6a2e3ccf99b4e988ed387c816938233"
            ],
            "layout": "IPY_MODEL_0d323d3079ca40288b016ec166c04b3c"
          }
        },
        "f8818ff9c3724a499210c8994b71f5cd": {
          "model_module": "@jupyter-widgets/controls",
          "model_name": "HTMLModel",
          "model_module_version": "1.5.0",
          "state": {
            "_dom_classes": [],
            "_model_module": "@jupyter-widgets/controls",
            "_model_module_version": "1.5.0",
            "_model_name": "HTMLModel",
            "_view_count": null,
            "_view_module": "@jupyter-widgets/controls",
            "_view_module_version": "1.5.0",
            "_view_name": "HTMLView",
            "description": "",
            "description_tooltip": null,
            "layout": "IPY_MODEL_78f97de6b67943cda1145165c1e4b9a1",
            "placeholder": "​",
            "style": "IPY_MODEL_d801ea7b3c0c4574bebabfdd7dd20ac0",
            "value": ""
          }
        },
        "84d561dd4ab84a9597ac39921da2d0ba": {
          "model_module": "@jupyter-widgets/controls",
          "model_name": "FloatProgressModel",
          "model_module_version": "1.5.0",
          "state": {
            "_dom_classes": [],
            "_model_module": "@jupyter-widgets/controls",
            "_model_module_version": "1.5.0",
            "_model_name": "FloatProgressModel",
            "_view_count": null,
            "_view_module": "@jupyter-widgets/controls",
            "_view_module_version": "1.5.0",
            "_view_name": "ProgressView",
            "bar_style": "success",
            "description": "",
            "description_tooltip": null,
            "layout": "IPY_MODEL_a538406da8624ef9bb5db1774e819f63",
            "max": 1648877,
            "min": 0,
            "orientation": "horizontal",
            "style": "IPY_MODEL_c24fc336699f41ed9cb08f7306f89adb",
            "value": 1648877
          }
        },
        "b6a2e3ccf99b4e988ed387c816938233": {
          "model_module": "@jupyter-widgets/controls",
          "model_name": "HTMLModel",
          "model_module_version": "1.5.0",
          "state": {
            "_dom_classes": [],
            "_model_module": "@jupyter-widgets/controls",
            "_model_module_version": "1.5.0",
            "_model_name": "HTMLModel",
            "_view_count": null,
            "_view_module": "@jupyter-widgets/controls",
            "_view_module_version": "1.5.0",
            "_view_name": "HTMLView",
            "description": "",
            "description_tooltip": null,
            "layout": "IPY_MODEL_71bd6d7aafc74ab68c6423b2494fe112",
            "placeholder": "​",
            "style": "IPY_MODEL_087db64e61a940fb9eda439e8a4c69d8",
            "value": " 1649664/? [00:00&lt;00:00, 16610991.70it/s]"
          }
        },
        "0d323d3079ca40288b016ec166c04b3c": {
          "model_module": "@jupyter-widgets/base",
          "model_name": "LayoutModel",
          "model_module_version": "1.2.0",
          "state": {
            "_model_module": "@jupyter-widgets/base",
            "_model_module_version": "1.2.0",
            "_model_name": "LayoutModel",
            "_view_count": null,
            "_view_module": "@jupyter-widgets/base",
            "_view_module_version": "1.2.0",
            "_view_name": "LayoutView",
            "align_content": null,
            "align_items": null,
            "align_self": null,
            "border": null,
            "bottom": null,
            "display": null,
            "flex": null,
            "flex_flow": null,
            "grid_area": null,
            "grid_auto_columns": null,
            "grid_auto_flow": null,
            "grid_auto_rows": null,
            "grid_column": null,
            "grid_gap": null,
            "grid_row": null,
            "grid_template_areas": null,
            "grid_template_columns": null,
            "grid_template_rows": null,
            "height": null,
            "justify_content": null,
            "justify_items": null,
            "left": null,
            "margin": null,
            "max_height": null,
            "max_width": null,
            "min_height": null,
            "min_width": null,
            "object_fit": null,
            "object_position": null,
            "order": null,
            "overflow": null,
            "overflow_x": null,
            "overflow_y": null,
            "padding": null,
            "right": null,
            "top": null,
            "visibility": null,
            "width": null
          }
        },
        "78f97de6b67943cda1145165c1e4b9a1": {
          "model_module": "@jupyter-widgets/base",
          "model_name": "LayoutModel",
          "model_module_version": "1.2.0",
          "state": {
            "_model_module": "@jupyter-widgets/base",
            "_model_module_version": "1.2.0",
            "_model_name": "LayoutModel",
            "_view_count": null,
            "_view_module": "@jupyter-widgets/base",
            "_view_module_version": "1.2.0",
            "_view_name": "LayoutView",
            "align_content": null,
            "align_items": null,
            "align_self": null,
            "border": null,
            "bottom": null,
            "display": null,
            "flex": null,
            "flex_flow": null,
            "grid_area": null,
            "grid_auto_columns": null,
            "grid_auto_flow": null,
            "grid_auto_rows": null,
            "grid_column": null,
            "grid_gap": null,
            "grid_row": null,
            "grid_template_areas": null,
            "grid_template_columns": null,
            "grid_template_rows": null,
            "height": null,
            "justify_content": null,
            "justify_items": null,
            "left": null,
            "margin": null,
            "max_height": null,
            "max_width": null,
            "min_height": null,
            "min_width": null,
            "object_fit": null,
            "object_position": null,
            "order": null,
            "overflow": null,
            "overflow_x": null,
            "overflow_y": null,
            "padding": null,
            "right": null,
            "top": null,
            "visibility": null,
            "width": null
          }
        },
        "d801ea7b3c0c4574bebabfdd7dd20ac0": {
          "model_module": "@jupyter-widgets/controls",
          "model_name": "DescriptionStyleModel",
          "model_module_version": "1.5.0",
          "state": {
            "_model_module": "@jupyter-widgets/controls",
            "_model_module_version": "1.5.0",
            "_model_name": "DescriptionStyleModel",
            "_view_count": null,
            "_view_module": "@jupyter-widgets/base",
            "_view_module_version": "1.2.0",
            "_view_name": "StyleView",
            "description_width": ""
          }
        },
        "a538406da8624ef9bb5db1774e819f63": {
          "model_module": "@jupyter-widgets/base",
          "model_name": "LayoutModel",
          "model_module_version": "1.2.0",
          "state": {
            "_model_module": "@jupyter-widgets/base",
            "_model_module_version": "1.2.0",
            "_model_name": "LayoutModel",
            "_view_count": null,
            "_view_module": "@jupyter-widgets/base",
            "_view_module_version": "1.2.0",
            "_view_name": "LayoutView",
            "align_content": null,
            "align_items": null,
            "align_self": null,
            "border": null,
            "bottom": null,
            "display": null,
            "flex": null,
            "flex_flow": null,
            "grid_area": null,
            "grid_auto_columns": null,
            "grid_auto_flow": null,
            "grid_auto_rows": null,
            "grid_column": null,
            "grid_gap": null,
            "grid_row": null,
            "grid_template_areas": null,
            "grid_template_columns": null,
            "grid_template_rows": null,
            "height": null,
            "justify_content": null,
            "justify_items": null,
            "left": null,
            "margin": null,
            "max_height": null,
            "max_width": null,
            "min_height": null,
            "min_width": null,
            "object_fit": null,
            "object_position": null,
            "order": null,
            "overflow": null,
            "overflow_x": null,
            "overflow_y": null,
            "padding": null,
            "right": null,
            "top": null,
            "visibility": null,
            "width": null
          }
        },
        "c24fc336699f41ed9cb08f7306f89adb": {
          "model_module": "@jupyter-widgets/controls",
          "model_name": "ProgressStyleModel",
          "model_module_version": "1.5.0",
          "state": {
            "_model_module": "@jupyter-widgets/controls",
            "_model_module_version": "1.5.0",
            "_model_name": "ProgressStyleModel",
            "_view_count": null,
            "_view_module": "@jupyter-widgets/base",
            "_view_module_version": "1.2.0",
            "_view_name": "StyleView",
            "bar_color": null,
            "description_width": ""
          }
        },
        "71bd6d7aafc74ab68c6423b2494fe112": {
          "model_module": "@jupyter-widgets/base",
          "model_name": "LayoutModel",
          "model_module_version": "1.2.0",
          "state": {
            "_model_module": "@jupyter-widgets/base",
            "_model_module_version": "1.2.0",
            "_model_name": "LayoutModel",
            "_view_count": null,
            "_view_module": "@jupyter-widgets/base",
            "_view_module_version": "1.2.0",
            "_view_name": "LayoutView",
            "align_content": null,
            "align_items": null,
            "align_self": null,
            "border": null,
            "bottom": null,
            "display": null,
            "flex": null,
            "flex_flow": null,
            "grid_area": null,
            "grid_auto_columns": null,
            "grid_auto_flow": null,
            "grid_auto_rows": null,
            "grid_column": null,
            "grid_gap": null,
            "grid_row": null,
            "grid_template_areas": null,
            "grid_template_columns": null,
            "grid_template_rows": null,
            "height": null,
            "justify_content": null,
            "justify_items": null,
            "left": null,
            "margin": null,
            "max_height": null,
            "max_width": null,
            "min_height": null,
            "min_width": null,
            "object_fit": null,
            "object_position": null,
            "order": null,
            "overflow": null,
            "overflow_x": null,
            "overflow_y": null,
            "padding": null,
            "right": null,
            "top": null,
            "visibility": null,
            "width": null
          }
        },
        "087db64e61a940fb9eda439e8a4c69d8": {
          "model_module": "@jupyter-widgets/controls",
          "model_name": "DescriptionStyleModel",
          "model_module_version": "1.5.0",
          "state": {
            "_model_module": "@jupyter-widgets/controls",
            "_model_module_version": "1.5.0",
            "_model_name": "DescriptionStyleModel",
            "_view_count": null,
            "_view_module": "@jupyter-widgets/base",
            "_view_module_version": "1.2.0",
            "_view_name": "StyleView",
            "description_width": ""
          }
        },
        "d0ed75ba045b44e4afe9acc5852f7c60": {
          "model_module": "@jupyter-widgets/controls",
          "model_name": "HBoxModel",
          "model_module_version": "1.5.0",
          "state": {
            "_dom_classes": [],
            "_model_module": "@jupyter-widgets/controls",
            "_model_module_version": "1.5.0",
            "_model_name": "HBoxModel",
            "_view_count": null,
            "_view_module": "@jupyter-widgets/controls",
            "_view_module_version": "1.5.0",
            "_view_name": "HBoxView",
            "box_style": "",
            "children": [
              "IPY_MODEL_987cb54077ed470bae147a6002b18f3a",
              "IPY_MODEL_62d1e39d8eef4537a9b66bd30afe5597",
              "IPY_MODEL_6d7a448e41a1413fb32ac364dc113184"
            ],
            "layout": "IPY_MODEL_5ccdebbd7cb7494fb5a86ce0ce0126ca"
          }
        },
        "987cb54077ed470bae147a6002b18f3a": {
          "model_module": "@jupyter-widgets/controls",
          "model_name": "HTMLModel",
          "model_module_version": "1.5.0",
          "state": {
            "_dom_classes": [],
            "_model_module": "@jupyter-widgets/controls",
            "_model_module_version": "1.5.0",
            "_model_name": "HTMLModel",
            "_view_count": null,
            "_view_module": "@jupyter-widgets/controls",
            "_view_module_version": "1.5.0",
            "_view_name": "HTMLView",
            "description": "",
            "description_tooltip": null,
            "layout": "IPY_MODEL_dd027f7c5d8d47e2804f2a89df843970",
            "placeholder": "​",
            "style": "IPY_MODEL_50e31bde3261455ea25c48c684b81593",
            "value": ""
          }
        },
        "62d1e39d8eef4537a9b66bd30afe5597": {
          "model_module": "@jupyter-widgets/controls",
          "model_name": "FloatProgressModel",
          "model_module_version": "1.5.0",
          "state": {
            "_dom_classes": [],
            "_model_module": "@jupyter-widgets/controls",
            "_model_module_version": "1.5.0",
            "_model_name": "FloatProgressModel",
            "_view_count": null,
            "_view_module": "@jupyter-widgets/controls",
            "_view_module_version": "1.5.0",
            "_view_name": "ProgressView",
            "bar_style": "success",
            "description": "",
            "description_tooltip": null,
            "layout": "IPY_MODEL_dd380a1211c144a09689f9151af4f321",
            "max": 4542,
            "min": 0,
            "orientation": "horizontal",
            "style": "IPY_MODEL_16c353dac11f419f80241c4f3a9df684",
            "value": 4542
          }
        },
        "6d7a448e41a1413fb32ac364dc113184": {
          "model_module": "@jupyter-widgets/controls",
          "model_name": "HTMLModel",
          "model_module_version": "1.5.0",
          "state": {
            "_dom_classes": [],
            "_model_module": "@jupyter-widgets/controls",
            "_model_module_version": "1.5.0",
            "_model_name": "HTMLModel",
            "_view_count": null,
            "_view_module": "@jupyter-widgets/controls",
            "_view_module_version": "1.5.0",
            "_view_name": "HTMLView",
            "description": "",
            "description_tooltip": null,
            "layout": "IPY_MODEL_11f13279a5a8496bad440b0ad387e57d",
            "placeholder": "​",
            "style": "IPY_MODEL_2b951a056a6c42f593902af0f4ee66cc",
            "value": " 5120/? [00:00&lt;00:00, 167795.76it/s]"
          }
        },
        "5ccdebbd7cb7494fb5a86ce0ce0126ca": {
          "model_module": "@jupyter-widgets/base",
          "model_name": "LayoutModel",
          "model_module_version": "1.2.0",
          "state": {
            "_model_module": "@jupyter-widgets/base",
            "_model_module_version": "1.2.0",
            "_model_name": "LayoutModel",
            "_view_count": null,
            "_view_module": "@jupyter-widgets/base",
            "_view_module_version": "1.2.0",
            "_view_name": "LayoutView",
            "align_content": null,
            "align_items": null,
            "align_self": null,
            "border": null,
            "bottom": null,
            "display": null,
            "flex": null,
            "flex_flow": null,
            "grid_area": null,
            "grid_auto_columns": null,
            "grid_auto_flow": null,
            "grid_auto_rows": null,
            "grid_column": null,
            "grid_gap": null,
            "grid_row": null,
            "grid_template_areas": null,
            "grid_template_columns": null,
            "grid_template_rows": null,
            "height": null,
            "justify_content": null,
            "justify_items": null,
            "left": null,
            "margin": null,
            "max_height": null,
            "max_width": null,
            "min_height": null,
            "min_width": null,
            "object_fit": null,
            "object_position": null,
            "order": null,
            "overflow": null,
            "overflow_x": null,
            "overflow_y": null,
            "padding": null,
            "right": null,
            "top": null,
            "visibility": null,
            "width": null
          }
        },
        "dd027f7c5d8d47e2804f2a89df843970": {
          "model_module": "@jupyter-widgets/base",
          "model_name": "LayoutModel",
          "model_module_version": "1.2.0",
          "state": {
            "_model_module": "@jupyter-widgets/base",
            "_model_module_version": "1.2.0",
            "_model_name": "LayoutModel",
            "_view_count": null,
            "_view_module": "@jupyter-widgets/base",
            "_view_module_version": "1.2.0",
            "_view_name": "LayoutView",
            "align_content": null,
            "align_items": null,
            "align_self": null,
            "border": null,
            "bottom": null,
            "display": null,
            "flex": null,
            "flex_flow": null,
            "grid_area": null,
            "grid_auto_columns": null,
            "grid_auto_flow": null,
            "grid_auto_rows": null,
            "grid_column": null,
            "grid_gap": null,
            "grid_row": null,
            "grid_template_areas": null,
            "grid_template_columns": null,
            "grid_template_rows": null,
            "height": null,
            "justify_content": null,
            "justify_items": null,
            "left": null,
            "margin": null,
            "max_height": null,
            "max_width": null,
            "min_height": null,
            "min_width": null,
            "object_fit": null,
            "object_position": null,
            "order": null,
            "overflow": null,
            "overflow_x": null,
            "overflow_y": null,
            "padding": null,
            "right": null,
            "top": null,
            "visibility": null,
            "width": null
          }
        },
        "50e31bde3261455ea25c48c684b81593": {
          "model_module": "@jupyter-widgets/controls",
          "model_name": "DescriptionStyleModel",
          "model_module_version": "1.5.0",
          "state": {
            "_model_module": "@jupyter-widgets/controls",
            "_model_module_version": "1.5.0",
            "_model_name": "DescriptionStyleModel",
            "_view_count": null,
            "_view_module": "@jupyter-widgets/base",
            "_view_module_version": "1.2.0",
            "_view_name": "StyleView",
            "description_width": ""
          }
        },
        "dd380a1211c144a09689f9151af4f321": {
          "model_module": "@jupyter-widgets/base",
          "model_name": "LayoutModel",
          "model_module_version": "1.2.0",
          "state": {
            "_model_module": "@jupyter-widgets/base",
            "_model_module_version": "1.2.0",
            "_model_name": "LayoutModel",
            "_view_count": null,
            "_view_module": "@jupyter-widgets/base",
            "_view_module_version": "1.2.0",
            "_view_name": "LayoutView",
            "align_content": null,
            "align_items": null,
            "align_self": null,
            "border": null,
            "bottom": null,
            "display": null,
            "flex": null,
            "flex_flow": null,
            "grid_area": null,
            "grid_auto_columns": null,
            "grid_auto_flow": null,
            "grid_auto_rows": null,
            "grid_column": null,
            "grid_gap": null,
            "grid_row": null,
            "grid_template_areas": null,
            "grid_template_columns": null,
            "grid_template_rows": null,
            "height": null,
            "justify_content": null,
            "justify_items": null,
            "left": null,
            "margin": null,
            "max_height": null,
            "max_width": null,
            "min_height": null,
            "min_width": null,
            "object_fit": null,
            "object_position": null,
            "order": null,
            "overflow": null,
            "overflow_x": null,
            "overflow_y": null,
            "padding": null,
            "right": null,
            "top": null,
            "visibility": null,
            "width": null
          }
        },
        "16c353dac11f419f80241c4f3a9df684": {
          "model_module": "@jupyter-widgets/controls",
          "model_name": "ProgressStyleModel",
          "model_module_version": "1.5.0",
          "state": {
            "_model_module": "@jupyter-widgets/controls",
            "_model_module_version": "1.5.0",
            "_model_name": "ProgressStyleModel",
            "_view_count": null,
            "_view_module": "@jupyter-widgets/base",
            "_view_module_version": "1.2.0",
            "_view_name": "StyleView",
            "bar_color": null,
            "description_width": ""
          }
        },
        "11f13279a5a8496bad440b0ad387e57d": {
          "model_module": "@jupyter-widgets/base",
          "model_name": "LayoutModel",
          "model_module_version": "1.2.0",
          "state": {
            "_model_module": "@jupyter-widgets/base",
            "_model_module_version": "1.2.0",
            "_model_name": "LayoutModel",
            "_view_count": null,
            "_view_module": "@jupyter-widgets/base",
            "_view_module_version": "1.2.0",
            "_view_name": "LayoutView",
            "align_content": null,
            "align_items": null,
            "align_self": null,
            "border": null,
            "bottom": null,
            "display": null,
            "flex": null,
            "flex_flow": null,
            "grid_area": null,
            "grid_auto_columns": null,
            "grid_auto_flow": null,
            "grid_auto_rows": null,
            "grid_column": null,
            "grid_gap": null,
            "grid_row": null,
            "grid_template_areas": null,
            "grid_template_columns": null,
            "grid_template_rows": null,
            "height": null,
            "justify_content": null,
            "justify_items": null,
            "left": null,
            "margin": null,
            "max_height": null,
            "max_width": null,
            "min_height": null,
            "min_width": null,
            "object_fit": null,
            "object_position": null,
            "order": null,
            "overflow": null,
            "overflow_x": null,
            "overflow_y": null,
            "padding": null,
            "right": null,
            "top": null,
            "visibility": null,
            "width": null
          }
        },
        "2b951a056a6c42f593902af0f4ee66cc": {
          "model_module": "@jupyter-widgets/controls",
          "model_name": "DescriptionStyleModel",
          "model_module_version": "1.5.0",
          "state": {
            "_model_module": "@jupyter-widgets/controls",
            "_model_module_version": "1.5.0",
            "_model_name": "DescriptionStyleModel",
            "_view_count": null,
            "_view_module": "@jupyter-widgets/base",
            "_view_module_version": "1.2.0",
            "_view_name": "StyleView",
            "description_width": ""
          }
        },
        "681e75cc489c44c5bacc06242fc7e8a1": {
          "model_module": "@jupyter-widgets/controls",
          "model_name": "HBoxModel",
          "model_module_version": "1.5.0",
          "state": {
            "_dom_classes": [],
            "_model_module": "@jupyter-widgets/controls",
            "_model_module_version": "1.5.0",
            "_model_name": "HBoxModel",
            "_view_count": null,
            "_view_module": "@jupyter-widgets/controls",
            "_view_module_version": "1.5.0",
            "_view_name": "HBoxView",
            "box_style": "",
            "children": [
              "IPY_MODEL_2b7882e7ace84885bbb0e76a76ebe21f",
              "IPY_MODEL_05414ea89bff4df8be98194f5b7b4a05",
              "IPY_MODEL_e937b309046b4bebb1c72afb9b0c5d07"
            ],
            "layout": "IPY_MODEL_450fbc6f45be43108fabb04b9e4904fa"
          }
        },
        "2b7882e7ace84885bbb0e76a76ebe21f": {
          "model_module": "@jupyter-widgets/controls",
          "model_name": "HTMLModel",
          "model_module_version": "1.5.0",
          "state": {
            "_dom_classes": [],
            "_model_module": "@jupyter-widgets/controls",
            "_model_module_version": "1.5.0",
            "_model_name": "HTMLModel",
            "_view_count": null,
            "_view_module": "@jupyter-widgets/controls",
            "_view_module_version": "1.5.0",
            "_view_name": "HTMLView",
            "description": "",
            "description_tooltip": null,
            "layout": "IPY_MODEL_ae7f966400ce49a7869e9e4b1e1b27cb",
            "placeholder": "​",
            "style": "IPY_MODEL_5e152e9522a443beb19ee36c6c7c8ef8",
            "value": "100%"
          }
        },
        "05414ea89bff4df8be98194f5b7b4a05": {
          "model_module": "@jupyter-widgets/controls",
          "model_name": "FloatProgressModel",
          "model_module_version": "1.5.0",
          "state": {
            "_dom_classes": [],
            "_model_module": "@jupyter-widgets/controls",
            "_model_module_version": "1.5.0",
            "_model_name": "FloatProgressModel",
            "_view_count": null,
            "_view_module": "@jupyter-widgets/controls",
            "_view_module_version": "1.5.0",
            "_view_name": "ProgressView",
            "bar_style": "success",
            "description": "",
            "description_tooltip": null,
            "layout": "IPY_MODEL_ab894b92d6034c998a1e905db12a4940",
            "max": 100,
            "min": 0,
            "orientation": "horizontal",
            "style": "IPY_MODEL_d9e14e5d73a14a62bf33ebb996ec95d0",
            "value": 100
          }
        },
        "e937b309046b4bebb1c72afb9b0c5d07": {
          "model_module": "@jupyter-widgets/controls",
          "model_name": "HTMLModel",
          "model_module_version": "1.5.0",
          "state": {
            "_dom_classes": [],
            "_model_module": "@jupyter-widgets/controls",
            "_model_module_version": "1.5.0",
            "_model_name": "HTMLModel",
            "_view_count": null,
            "_view_module": "@jupyter-widgets/controls",
            "_view_module_version": "1.5.0",
            "_view_name": "HTMLView",
            "description": "",
            "description_tooltip": null,
            "layout": "IPY_MODEL_1335b234f51546dca03e3d80ccabfb7a",
            "placeholder": "​",
            "style": "IPY_MODEL_207b7ee1363142a0b35cbc5f2275462e",
            "value": " 100/100 [00:29&lt;00:00,  5.67it/s]"
          }
        },
        "450fbc6f45be43108fabb04b9e4904fa": {
          "model_module": "@jupyter-widgets/base",
          "model_name": "LayoutModel",
          "model_module_version": "1.2.0",
          "state": {
            "_model_module": "@jupyter-widgets/base",
            "_model_module_version": "1.2.0",
            "_model_name": "LayoutModel",
            "_view_count": null,
            "_view_module": "@jupyter-widgets/base",
            "_view_module_version": "1.2.0",
            "_view_name": "LayoutView",
            "align_content": null,
            "align_items": null,
            "align_self": null,
            "border": null,
            "bottom": null,
            "display": null,
            "flex": null,
            "flex_flow": null,
            "grid_area": null,
            "grid_auto_columns": null,
            "grid_auto_flow": null,
            "grid_auto_rows": null,
            "grid_column": null,
            "grid_gap": null,
            "grid_row": null,
            "grid_template_areas": null,
            "grid_template_columns": null,
            "grid_template_rows": null,
            "height": null,
            "justify_content": null,
            "justify_items": null,
            "left": null,
            "margin": null,
            "max_height": null,
            "max_width": null,
            "min_height": null,
            "min_width": null,
            "object_fit": null,
            "object_position": null,
            "order": null,
            "overflow": null,
            "overflow_x": null,
            "overflow_y": null,
            "padding": null,
            "right": null,
            "top": null,
            "visibility": null,
            "width": null
          }
        },
        "ae7f966400ce49a7869e9e4b1e1b27cb": {
          "model_module": "@jupyter-widgets/base",
          "model_name": "LayoutModel",
          "model_module_version": "1.2.0",
          "state": {
            "_model_module": "@jupyter-widgets/base",
            "_model_module_version": "1.2.0",
            "_model_name": "LayoutModel",
            "_view_count": null,
            "_view_module": "@jupyter-widgets/base",
            "_view_module_version": "1.2.0",
            "_view_name": "LayoutView",
            "align_content": null,
            "align_items": null,
            "align_self": null,
            "border": null,
            "bottom": null,
            "display": null,
            "flex": null,
            "flex_flow": null,
            "grid_area": null,
            "grid_auto_columns": null,
            "grid_auto_flow": null,
            "grid_auto_rows": null,
            "grid_column": null,
            "grid_gap": null,
            "grid_row": null,
            "grid_template_areas": null,
            "grid_template_columns": null,
            "grid_template_rows": null,
            "height": null,
            "justify_content": null,
            "justify_items": null,
            "left": null,
            "margin": null,
            "max_height": null,
            "max_width": null,
            "min_height": null,
            "min_width": null,
            "object_fit": null,
            "object_position": null,
            "order": null,
            "overflow": null,
            "overflow_x": null,
            "overflow_y": null,
            "padding": null,
            "right": null,
            "top": null,
            "visibility": null,
            "width": null
          }
        },
        "5e152e9522a443beb19ee36c6c7c8ef8": {
          "model_module": "@jupyter-widgets/controls",
          "model_name": "DescriptionStyleModel",
          "model_module_version": "1.5.0",
          "state": {
            "_model_module": "@jupyter-widgets/controls",
            "_model_module_version": "1.5.0",
            "_model_name": "DescriptionStyleModel",
            "_view_count": null,
            "_view_module": "@jupyter-widgets/base",
            "_view_module_version": "1.2.0",
            "_view_name": "StyleView",
            "description_width": ""
          }
        },
        "ab894b92d6034c998a1e905db12a4940": {
          "model_module": "@jupyter-widgets/base",
          "model_name": "LayoutModel",
          "model_module_version": "1.2.0",
          "state": {
            "_model_module": "@jupyter-widgets/base",
            "_model_module_version": "1.2.0",
            "_model_name": "LayoutModel",
            "_view_count": null,
            "_view_module": "@jupyter-widgets/base",
            "_view_module_version": "1.2.0",
            "_view_name": "LayoutView",
            "align_content": null,
            "align_items": null,
            "align_self": null,
            "border": null,
            "bottom": null,
            "display": null,
            "flex": null,
            "flex_flow": null,
            "grid_area": null,
            "grid_auto_columns": null,
            "grid_auto_flow": null,
            "grid_auto_rows": null,
            "grid_column": null,
            "grid_gap": null,
            "grid_row": null,
            "grid_template_areas": null,
            "grid_template_columns": null,
            "grid_template_rows": null,
            "height": null,
            "justify_content": null,
            "justify_items": null,
            "left": null,
            "margin": null,
            "max_height": null,
            "max_width": null,
            "min_height": null,
            "min_width": null,
            "object_fit": null,
            "object_position": null,
            "order": null,
            "overflow": null,
            "overflow_x": null,
            "overflow_y": null,
            "padding": null,
            "right": null,
            "top": null,
            "visibility": null,
            "width": null
          }
        },
        "d9e14e5d73a14a62bf33ebb996ec95d0": {
          "model_module": "@jupyter-widgets/controls",
          "model_name": "ProgressStyleModel",
          "model_module_version": "1.5.0",
          "state": {
            "_model_module": "@jupyter-widgets/controls",
            "_model_module_version": "1.5.0",
            "_model_name": "ProgressStyleModel",
            "_view_count": null,
            "_view_module": "@jupyter-widgets/base",
            "_view_module_version": "1.2.0",
            "_view_name": "StyleView",
            "bar_color": null,
            "description_width": ""
          }
        },
        "1335b234f51546dca03e3d80ccabfb7a": {
          "model_module": "@jupyter-widgets/base",
          "model_name": "LayoutModel",
          "model_module_version": "1.2.0",
          "state": {
            "_model_module": "@jupyter-widgets/base",
            "_model_module_version": "1.2.0",
            "_model_name": "LayoutModel",
            "_view_count": null,
            "_view_module": "@jupyter-widgets/base",
            "_view_module_version": "1.2.0",
            "_view_name": "LayoutView",
            "align_content": null,
            "align_items": null,
            "align_self": null,
            "border": null,
            "bottom": null,
            "display": null,
            "flex": null,
            "flex_flow": null,
            "grid_area": null,
            "grid_auto_columns": null,
            "grid_auto_flow": null,
            "grid_auto_rows": null,
            "grid_column": null,
            "grid_gap": null,
            "grid_row": null,
            "grid_template_areas": null,
            "grid_template_columns": null,
            "grid_template_rows": null,
            "height": null,
            "justify_content": null,
            "justify_items": null,
            "left": null,
            "margin": null,
            "max_height": null,
            "max_width": null,
            "min_height": null,
            "min_width": null,
            "object_fit": null,
            "object_position": null,
            "order": null,
            "overflow": null,
            "overflow_x": null,
            "overflow_y": null,
            "padding": null,
            "right": null,
            "top": null,
            "visibility": null,
            "width": null
          }
        },
        "207b7ee1363142a0b35cbc5f2275462e": {
          "model_module": "@jupyter-widgets/controls",
          "model_name": "DescriptionStyleModel",
          "model_module_version": "1.5.0",
          "state": {
            "_model_module": "@jupyter-widgets/controls",
            "_model_module_version": "1.5.0",
            "_model_name": "DescriptionStyleModel",
            "_view_count": null,
            "_view_module": "@jupyter-widgets/base",
            "_view_module_version": "1.2.0",
            "_view_name": "StyleView",
            "description_width": ""
          }
        },
        "64e5d1a76df7418a8bb83ca352feea28": {
          "model_module": "@jupyter-widgets/controls",
          "model_name": "HBoxModel",
          "model_module_version": "1.5.0",
          "state": {
            "_dom_classes": [],
            "_model_module": "@jupyter-widgets/controls",
            "_model_module_version": "1.5.0",
            "_model_name": "HBoxModel",
            "_view_count": null,
            "_view_module": "@jupyter-widgets/controls",
            "_view_module_version": "1.5.0",
            "_view_name": "HBoxView",
            "box_style": "",
            "children": [
              "IPY_MODEL_83d188e3b14e41c0992be20c1220c8f9",
              "IPY_MODEL_d05c91fe42324e44926fcaa9d39fef2c",
              "IPY_MODEL_7aa785ad90b54aa19a45c6848cf88474"
            ],
            "layout": "IPY_MODEL_a0c8567556ba47afa42053763a4cc94c"
          }
        },
        "83d188e3b14e41c0992be20c1220c8f9": {
          "model_module": "@jupyter-widgets/controls",
          "model_name": "HTMLModel",
          "model_module_version": "1.5.0",
          "state": {
            "_dom_classes": [],
            "_model_module": "@jupyter-widgets/controls",
            "_model_module_version": "1.5.0",
            "_model_name": "HTMLModel",
            "_view_count": null,
            "_view_module": "@jupyter-widgets/controls",
            "_view_module_version": "1.5.0",
            "_view_name": "HTMLView",
            "description": "",
            "description_tooltip": null,
            "layout": "IPY_MODEL_2f101a85dfa74451910c6cfa6eb3f483",
            "placeholder": "​",
            "style": "IPY_MODEL_6b4d87a26d2c4f54b9ca220c4acc79a6",
            "value": "100%"
          }
        },
        "d05c91fe42324e44926fcaa9d39fef2c": {
          "model_module": "@jupyter-widgets/controls",
          "model_name": "FloatProgressModel",
          "model_module_version": "1.5.0",
          "state": {
            "_dom_classes": [],
            "_model_module": "@jupyter-widgets/controls",
            "_model_module_version": "1.5.0",
            "_model_name": "FloatProgressModel",
            "_view_count": null,
            "_view_module": "@jupyter-widgets/controls",
            "_view_module_version": "1.5.0",
            "_view_name": "ProgressView",
            "bar_style": "success",
            "description": "",
            "description_tooltip": null,
            "layout": "IPY_MODEL_f0937183088e4c7988a58b2ecf91322a",
            "max": 1000,
            "min": 0,
            "orientation": "horizontal",
            "style": "IPY_MODEL_0873c71835244d61b24b87d449cc3b0c",
            "value": 1000
          }
        },
        "7aa785ad90b54aa19a45c6848cf88474": {
          "model_module": "@jupyter-widgets/controls",
          "model_name": "HTMLModel",
          "model_module_version": "1.5.0",
          "state": {
            "_dom_classes": [],
            "_model_module": "@jupyter-widgets/controls",
            "_model_module_version": "1.5.0",
            "_model_name": "HTMLModel",
            "_view_count": null,
            "_view_module": "@jupyter-widgets/controls",
            "_view_module_version": "1.5.0",
            "_view_name": "HTMLView",
            "description": "",
            "description_tooltip": null,
            "layout": "IPY_MODEL_94555b6762f94d34a41ddd546d473275",
            "placeholder": "​",
            "style": "IPY_MODEL_601fb634da0c4fbcb1dfe74e51684008",
            "value": " 1000/1000 [02:22&lt;00:00,  6.59it/s]"
          }
        },
        "a0c8567556ba47afa42053763a4cc94c": {
          "model_module": "@jupyter-widgets/base",
          "model_name": "LayoutModel",
          "model_module_version": "1.2.0",
          "state": {
            "_model_module": "@jupyter-widgets/base",
            "_model_module_version": "1.2.0",
            "_model_name": "LayoutModel",
            "_view_count": null,
            "_view_module": "@jupyter-widgets/base",
            "_view_module_version": "1.2.0",
            "_view_name": "LayoutView",
            "align_content": null,
            "align_items": null,
            "align_self": null,
            "border": null,
            "bottom": null,
            "display": null,
            "flex": null,
            "flex_flow": null,
            "grid_area": null,
            "grid_auto_columns": null,
            "grid_auto_flow": null,
            "grid_auto_rows": null,
            "grid_column": null,
            "grid_gap": null,
            "grid_row": null,
            "grid_template_areas": null,
            "grid_template_columns": null,
            "grid_template_rows": null,
            "height": null,
            "justify_content": null,
            "justify_items": null,
            "left": null,
            "margin": null,
            "max_height": null,
            "max_width": null,
            "min_height": null,
            "min_width": null,
            "object_fit": null,
            "object_position": null,
            "order": null,
            "overflow": null,
            "overflow_x": null,
            "overflow_y": null,
            "padding": null,
            "right": null,
            "top": null,
            "visibility": null,
            "width": null
          }
        },
        "2f101a85dfa74451910c6cfa6eb3f483": {
          "model_module": "@jupyter-widgets/base",
          "model_name": "LayoutModel",
          "model_module_version": "1.2.0",
          "state": {
            "_model_module": "@jupyter-widgets/base",
            "_model_module_version": "1.2.0",
            "_model_name": "LayoutModel",
            "_view_count": null,
            "_view_module": "@jupyter-widgets/base",
            "_view_module_version": "1.2.0",
            "_view_name": "LayoutView",
            "align_content": null,
            "align_items": null,
            "align_self": null,
            "border": null,
            "bottom": null,
            "display": null,
            "flex": null,
            "flex_flow": null,
            "grid_area": null,
            "grid_auto_columns": null,
            "grid_auto_flow": null,
            "grid_auto_rows": null,
            "grid_column": null,
            "grid_gap": null,
            "grid_row": null,
            "grid_template_areas": null,
            "grid_template_columns": null,
            "grid_template_rows": null,
            "height": null,
            "justify_content": null,
            "justify_items": null,
            "left": null,
            "margin": null,
            "max_height": null,
            "max_width": null,
            "min_height": null,
            "min_width": null,
            "object_fit": null,
            "object_position": null,
            "order": null,
            "overflow": null,
            "overflow_x": null,
            "overflow_y": null,
            "padding": null,
            "right": null,
            "top": null,
            "visibility": null,
            "width": null
          }
        },
        "6b4d87a26d2c4f54b9ca220c4acc79a6": {
          "model_module": "@jupyter-widgets/controls",
          "model_name": "DescriptionStyleModel",
          "model_module_version": "1.5.0",
          "state": {
            "_model_module": "@jupyter-widgets/controls",
            "_model_module_version": "1.5.0",
            "_model_name": "DescriptionStyleModel",
            "_view_count": null,
            "_view_module": "@jupyter-widgets/base",
            "_view_module_version": "1.2.0",
            "_view_name": "StyleView",
            "description_width": ""
          }
        },
        "f0937183088e4c7988a58b2ecf91322a": {
          "model_module": "@jupyter-widgets/base",
          "model_name": "LayoutModel",
          "model_module_version": "1.2.0",
          "state": {
            "_model_module": "@jupyter-widgets/base",
            "_model_module_version": "1.2.0",
            "_model_name": "LayoutModel",
            "_view_count": null,
            "_view_module": "@jupyter-widgets/base",
            "_view_module_version": "1.2.0",
            "_view_name": "LayoutView",
            "align_content": null,
            "align_items": null,
            "align_self": null,
            "border": null,
            "bottom": null,
            "display": null,
            "flex": null,
            "flex_flow": null,
            "grid_area": null,
            "grid_auto_columns": null,
            "grid_auto_flow": null,
            "grid_auto_rows": null,
            "grid_column": null,
            "grid_gap": null,
            "grid_row": null,
            "grid_template_areas": null,
            "grid_template_columns": null,
            "grid_template_rows": null,
            "height": null,
            "justify_content": null,
            "justify_items": null,
            "left": null,
            "margin": null,
            "max_height": null,
            "max_width": null,
            "min_height": null,
            "min_width": null,
            "object_fit": null,
            "object_position": null,
            "order": null,
            "overflow": null,
            "overflow_x": null,
            "overflow_y": null,
            "padding": null,
            "right": null,
            "top": null,
            "visibility": null,
            "width": null
          }
        },
        "0873c71835244d61b24b87d449cc3b0c": {
          "model_module": "@jupyter-widgets/controls",
          "model_name": "ProgressStyleModel",
          "model_module_version": "1.5.0",
          "state": {
            "_model_module": "@jupyter-widgets/controls",
            "_model_module_version": "1.5.0",
            "_model_name": "ProgressStyleModel",
            "_view_count": null,
            "_view_module": "@jupyter-widgets/base",
            "_view_module_version": "1.2.0",
            "_view_name": "StyleView",
            "bar_color": null,
            "description_width": ""
          }
        },
        "94555b6762f94d34a41ddd546d473275": {
          "model_module": "@jupyter-widgets/base",
          "model_name": "LayoutModel",
          "model_module_version": "1.2.0",
          "state": {
            "_model_module": "@jupyter-widgets/base",
            "_model_module_version": "1.2.0",
            "_model_name": "LayoutModel",
            "_view_count": null,
            "_view_module": "@jupyter-widgets/base",
            "_view_module_version": "1.2.0",
            "_view_name": "LayoutView",
            "align_content": null,
            "align_items": null,
            "align_self": null,
            "border": null,
            "bottom": null,
            "display": null,
            "flex": null,
            "flex_flow": null,
            "grid_area": null,
            "grid_auto_columns": null,
            "grid_auto_flow": null,
            "grid_auto_rows": null,
            "grid_column": null,
            "grid_gap": null,
            "grid_row": null,
            "grid_template_areas": null,
            "grid_template_columns": null,
            "grid_template_rows": null,
            "height": null,
            "justify_content": null,
            "justify_items": null,
            "left": null,
            "margin": null,
            "max_height": null,
            "max_width": null,
            "min_height": null,
            "min_width": null,
            "object_fit": null,
            "object_position": null,
            "order": null,
            "overflow": null,
            "overflow_x": null,
            "overflow_y": null,
            "padding": null,
            "right": null,
            "top": null,
            "visibility": null,
            "width": null
          }
        },
        "601fb634da0c4fbcb1dfe74e51684008": {
          "model_module": "@jupyter-widgets/controls",
          "model_name": "DescriptionStyleModel",
          "model_module_version": "1.5.0",
          "state": {
            "_model_module": "@jupyter-widgets/controls",
            "_model_module_version": "1.5.0",
            "_model_name": "DescriptionStyleModel",
            "_view_count": null,
            "_view_module": "@jupyter-widgets/base",
            "_view_module_version": "1.2.0",
            "_view_name": "StyleView",
            "description_width": ""
          }
        }
      }
    }
  },
  "cells": [
    {
      "cell_type": "markdown",
      "source": [
        "# Vector Bayes Learnable Generative Masks\n",
        "\n",
        "In this code we will:\n",
        "1. Generate a lot of masks and their property vectors\n",
        "2. Given a property list, fetch its mask\n",
        "3. Bayesian Optimize over the property to maximize model performance"
      ],
      "metadata": {
        "id": "sGL5NijUPmlI"
      }
    },
    {
      "cell_type": "markdown",
      "source": [
        "# NN to graph"
      ],
      "metadata": {
        "id": "Xit7B0-lfkJB"
      }
    },
    {
      "cell_type": "code",
      "source": [
        "import numpy as np\n",
        "import networkx as nx\n",
        "import itertools\n",
        "\n",
        "import numpy as np\n",
        "import pandas as pd\n",
        "import matplotlib.pyplot as plt\n",
        "from sklearn.datasets import load_iris\n",
        "from sklearn.model_selection import train_test_split\n",
        "from sklearn.preprocessing import StandardScaler\n",
        "\n",
        "import numpy as np\n",
        "import pandas as pd\n",
        "import matplotlib.pyplot as plt\n",
        "import sklearn\n",
        "\n",
        "from sklearn.datasets import load_iris\n",
        "from sklearn.model_selection import train_test_split\n",
        "from sklearn.preprocessing import StandardScaler\n",
        "from matplotlib import gridspec\n",
        "\n",
        "\n",
        "import torch\n",
        "import torch.nn as nn\n",
        "import torch.nn.functional as F\n",
        "import tqdm\n",
        "\n",
        "\n",
        "from torchvision import datasets\n",
        "from torchvision.transforms import ToTensor\n",
        "\n",
        "\n",
        "import torch.nn.utils.prune as prune"
      ],
      "metadata": {
        "id": "X2EEydilfmA_"
      },
      "execution_count": null,
      "outputs": []
    },
    {
      "cell_type": "code",
      "source": [
        "!pip install bayesian-optimization"
      ],
      "metadata": {
        "colab": {
          "base_uri": "https://localhost:8080/"
        },
        "id": "wNWqT7BcFZpR",
        "outputId": "0f69b0d6-1d0d-4472-a6ef-c059c7edbe4a"
      },
      "execution_count": null,
      "outputs": [
        {
          "output_type": "stream",
          "name": "stdout",
          "text": [
            "Looking in indexes: https://pypi.org/simple, https://us-python.pkg.dev/colab-wheels/public/simple/\n",
            "Collecting bayesian-optimization\n",
            "  Downloading bayesian-optimization-1.2.0.tar.gz (14 kB)\n",
            "Requirement already satisfied: numpy>=1.9.0 in /usr/local/lib/python3.7/dist-packages (from bayesian-optimization) (1.21.6)\n",
            "Requirement already satisfied: scipy>=0.14.0 in /usr/local/lib/python3.7/dist-packages (from bayesian-optimization) (1.4.1)\n",
            "Requirement already satisfied: scikit-learn>=0.18.0 in /usr/local/lib/python3.7/dist-packages (from bayesian-optimization) (1.0.2)\n",
            "Requirement already satisfied: threadpoolctl>=2.0.0 in /usr/local/lib/python3.7/dist-packages (from scikit-learn>=0.18.0->bayesian-optimization) (3.1.0)\n",
            "Requirement already satisfied: joblib>=0.11 in /usr/local/lib/python3.7/dist-packages (from scikit-learn>=0.18.0->bayesian-optimization) (1.1.0)\n",
            "Building wheels for collected packages: bayesian-optimization\n",
            "  Building wheel for bayesian-optimization (setup.py) ... \u001b[?25l\u001b[?25hdone\n",
            "  Created wheel for bayesian-optimization: filename=bayesian_optimization-1.2.0-py3-none-any.whl size=11685 sha256=9762241c2aa28344cce8589c55653b0dc028f9d4ba85e0f9a05a05e6da39e1d2\n",
            "  Stored in directory: /root/.cache/pip/wheels/fd/9b/71/f127d694e02eb40bcf18c7ae9613b88a6be4470f57a8528c5b\n",
            "Successfully built bayesian-optimization\n",
            "Installing collected packages: bayesian-optimization\n",
            "Successfully installed bayesian-optimization-1.2.0\n"
          ]
        }
      ]
    },
    {
      "cell_type": "markdown",
      "source": [
        "# Training and masking utils"
      ],
      "metadata": {
        "id": "m-Vpe3jOGLZQ"
      }
    },
    {
      "cell_type": "code",
      "source": [
        "import torch\n",
        "from torchvision import datasets\n",
        "import torchvision.transforms as transforms\n",
        "\n",
        "train_data = datasets.MNIST(\n",
        "    root = 'data',\n",
        "    train = True,                         \n",
        "    transform = transforms.ToTensor(),\n",
        "    download = True,            \n",
        ")\n",
        "test_data = datasets.MNIST(\n",
        "    root = 'data', \n",
        "    train = False, \n",
        "    transform = transforms.ToTensor(),\n",
        "    download = True\n",
        ")\n",
        "\n",
        "device = torch.device(\"cuda:0\" if torch.cuda.is_available() else \"cpu\")\n",
        "print(device)\n",
        "\n",
        "X_train = train_data.data.reshape(-1, 28*28).float().to(device)\n",
        "y_train = train_data.targets.to(device)\n",
        "X_test = test_data.data.reshape(-1, 28*28).float().to(device)\n",
        "y_test = test_data.targets.to(device)\n",
        "\n",
        "\n",
        "class LogisticRegressionModel(nn.Module):\n",
        "    def __init__(self, input_dim, hidden_dim, output_dim):\n",
        "        super(LogisticRegressionModel, self).__init__()\n",
        "        self.linear1 = nn.Linear(input_dim, hidden_dim)\n",
        "        self.linear2 = nn.Linear(hidden_dim, hidden_dim)\n",
        "        # self.linear3 = nn.Linear(hidden_dim, hidden_dim)\n",
        "        # self.linear4 = nn.Linear(hidden_dim, hidden_dim)\n",
        "        self.linear3 = nn.Linear(hidden_dim, output_dim)     \n",
        "\n",
        "    def forward(self, x):\n",
        "        x = F.relu(self.linear1(x))\n",
        "        x = F.relu(self.linear2(x))\n",
        "        # x = F.relu(self.linear3(x))\n",
        "        # x = F.relu(self.linear4(x))\n",
        "        x = F.softmax(self.linear3(x), dim=1)\n",
        "        return x\n",
        "\n",
        "def train(model, epochs):\n",
        "  optimizer = torch.optim.Adam(model.parameters(), lr=3e-4)\n",
        "  criterion = nn.CrossEntropyLoss()\n",
        "  loss_list  = np.zeros((epochs,))\n",
        "  accuracy_list = np.zeros((epochs,))\n",
        "\n",
        "#   for epoch in tqdm.trange(epochs):\n",
        "  for epoch in range(epochs):\n",
        "      y_pred = model(X_train)\n",
        "      loss = criterion(y_pred, y_train)\n",
        "      loss_list[epoch] = loss.item()\n",
        "      \n",
        "      # Zero gradients\n",
        "      optimizer.zero_grad()\n",
        "      loss.backward()\n",
        "      optimizer.step()\n",
        "      \n",
        "      with torch.no_grad():\n",
        "          y_pred = model(X_test)\n",
        "          correct = (torch.argmax(y_pred, dim=1) == y_test).type(torch.FloatTensor)\n",
        "          accuracy_list[epoch] = correct.mean()\n",
        "\n",
        "  return model, accuracy_list, loss_list\n",
        "\n",
        "\n",
        "def plot(accuracy_list, loss_list):\n",
        "  fig, (ax1, ax2) = plt.subplots(2, figsize=(12, 6), sharex=True)\n",
        "\n",
        "  ax1.plot(accuracy_list)\n",
        "  ax1.set_ylabel(\"validation accuracy\")\n",
        "  ax2.plot(loss_list)\n",
        "\n",
        "  ax2.set_ylabel(\"validation loss\")\n",
        "  ax2.set_xlabel(\"epochs\");     \n",
        "\n",
        "\n",
        "def _model_performance(model, N_ITERS=50):\n",
        "  model, _, _ = train(model, N_ITERS)\n",
        "  with torch.no_grad():\n",
        "    y_pred = model(X_test)\n",
        "    correct = (torch.argmax(y_pred, dim=1) == y_test).type(torch.FloatTensor)\n",
        "    accuracy = correct.mean()\n",
        "  return accuracy      \n",
        "\n",
        "def model_performance(mask, N_ITERS=50):\n",
        "  model = LogisticRegressionModel(INP_DIM, HIDDEN_DIM, OUTPUT_DIM).to(device)\n",
        "  mask = mask.to(device)\n",
        "  prune.custom_from_mask(model.linear2, name='weight', mask=mask.to(device))\n",
        "  return _model_performance(model, N_ITERS)"
      ],
      "metadata": {
        "id": "c7V3laIeKs9I",
        "colab": {
          "base_uri": "https://localhost:8080/",
          "height": 448,
          "referenced_widgets": [
            "7175166a6e564fb58cea539227b0e8c8",
            "550c307258564a619b2389e8ca15eb21",
            "a5e58590e9f24fa4b585b81b034e1a37",
            "dafce6ebdcca44b78f4a0ff744773b61",
            "da1fdc4dee284e3fa0c0054522bf2de4",
            "86ef6b21e08549c6a8eaafa427bbb03c",
            "934bb217bbfc44f39829ce1c016b5984",
            "366076982e1a42d0b15c51bb94cb16a9",
            "392ff27531f94a3b8831216b2a245f74",
            "b5985efabd0c4f8985b646c2ab8184e0",
            "f8f6d4f2b9b64152a93ab3539866e7c8",
            "f1c4b0594dc746f6b588222e4dfe95ed",
            "082cfa26f1db42afb3f12a42983b0f19",
            "55abb300c1e346bd814810677ff79d80",
            "2974b7e3e3a640f3825a2073cbfbb106",
            "b92b99c24daf4760a15e3af1406d8042",
            "4e5ddcf4c5b6499199dc7ac8fa57edf2",
            "3793268791664d8a9f7c107e6be9fc68",
            "7d7c1d201b83413497b34d959853dd7e",
            "029a668f6f9b4a019035987c0723baaf",
            "55fe48c7882d4b71a3eb76740d7ca7de",
            "1b7add9516564c46bf7068619cd8ea1f",
            "a657ed68edc0403db4c7698198f640c1",
            "f8818ff9c3724a499210c8994b71f5cd",
            "84d561dd4ab84a9597ac39921da2d0ba",
            "b6a2e3ccf99b4e988ed387c816938233",
            "0d323d3079ca40288b016ec166c04b3c",
            "78f97de6b67943cda1145165c1e4b9a1",
            "d801ea7b3c0c4574bebabfdd7dd20ac0",
            "a538406da8624ef9bb5db1774e819f63",
            "c24fc336699f41ed9cb08f7306f89adb",
            "71bd6d7aafc74ab68c6423b2494fe112",
            "087db64e61a940fb9eda439e8a4c69d8",
            "d0ed75ba045b44e4afe9acc5852f7c60",
            "987cb54077ed470bae147a6002b18f3a",
            "62d1e39d8eef4537a9b66bd30afe5597",
            "6d7a448e41a1413fb32ac364dc113184",
            "5ccdebbd7cb7494fb5a86ce0ce0126ca",
            "dd027f7c5d8d47e2804f2a89df843970",
            "50e31bde3261455ea25c48c684b81593",
            "dd380a1211c144a09689f9151af4f321",
            "16c353dac11f419f80241c4f3a9df684",
            "11f13279a5a8496bad440b0ad387e57d",
            "2b951a056a6c42f593902af0f4ee66cc"
          ]
        },
        "outputId": "d492c144-af24-4fe7-e981-399976ff1422"
      },
      "execution_count": null,
      "outputs": [
        {
          "output_type": "stream",
          "name": "stdout",
          "text": [
            "Downloading http://yann.lecun.com/exdb/mnist/train-images-idx3-ubyte.gz\n",
            "Downloading http://yann.lecun.com/exdb/mnist/train-images-idx3-ubyte.gz to data/MNIST/raw/train-images-idx3-ubyte.gz\n"
          ]
        },
        {
          "output_type": "display_data",
          "data": {
            "text/plain": [
              "  0%|          | 0/9912422 [00:00<?, ?it/s]"
            ],
            "application/vnd.jupyter.widget-view+json": {
              "version_major": 2,
              "version_minor": 0,
              "model_id": "7175166a6e564fb58cea539227b0e8c8"
            }
          },
          "metadata": {}
        },
        {
          "output_type": "stream",
          "name": "stdout",
          "text": [
            "Extracting data/MNIST/raw/train-images-idx3-ubyte.gz to data/MNIST/raw\n",
            "\n",
            "Downloading http://yann.lecun.com/exdb/mnist/train-labels-idx1-ubyte.gz\n",
            "Downloading http://yann.lecun.com/exdb/mnist/train-labels-idx1-ubyte.gz to data/MNIST/raw/train-labels-idx1-ubyte.gz\n"
          ]
        },
        {
          "output_type": "display_data",
          "data": {
            "text/plain": [
              "  0%|          | 0/28881 [00:00<?, ?it/s]"
            ],
            "application/vnd.jupyter.widget-view+json": {
              "version_major": 2,
              "version_minor": 0,
              "model_id": "f1c4b0594dc746f6b588222e4dfe95ed"
            }
          },
          "metadata": {}
        },
        {
          "output_type": "stream",
          "name": "stdout",
          "text": [
            "Extracting data/MNIST/raw/train-labels-idx1-ubyte.gz to data/MNIST/raw\n",
            "\n",
            "Downloading http://yann.lecun.com/exdb/mnist/t10k-images-idx3-ubyte.gz\n",
            "Downloading http://yann.lecun.com/exdb/mnist/t10k-images-idx3-ubyte.gz to data/MNIST/raw/t10k-images-idx3-ubyte.gz\n"
          ]
        },
        {
          "output_type": "display_data",
          "data": {
            "text/plain": [
              "  0%|          | 0/1648877 [00:00<?, ?it/s]"
            ],
            "application/vnd.jupyter.widget-view+json": {
              "version_major": 2,
              "version_minor": 0,
              "model_id": "a657ed68edc0403db4c7698198f640c1"
            }
          },
          "metadata": {}
        },
        {
          "output_type": "stream",
          "name": "stdout",
          "text": [
            "Extracting data/MNIST/raw/t10k-images-idx3-ubyte.gz to data/MNIST/raw\n",
            "\n",
            "Downloading http://yann.lecun.com/exdb/mnist/t10k-labels-idx1-ubyte.gz\n",
            "Downloading http://yann.lecun.com/exdb/mnist/t10k-labels-idx1-ubyte.gz to data/MNIST/raw/t10k-labels-idx1-ubyte.gz\n"
          ]
        },
        {
          "output_type": "display_data",
          "data": {
            "text/plain": [
              "  0%|          | 0/4542 [00:00<?, ?it/s]"
            ],
            "application/vnd.jupyter.widget-view+json": {
              "version_major": 2,
              "version_minor": 0,
              "model_id": "d0ed75ba045b44e4afe9acc5852f7c60"
            }
          },
          "metadata": {}
        },
        {
          "output_type": "stream",
          "name": "stdout",
          "text": [
            "Extracting data/MNIST/raw/t10k-labels-idx1-ubyte.gz to data/MNIST/raw\n",
            "\n",
            "cuda:0\n"
          ]
        }
      ]
    },
    {
      "cell_type": "code",
      "source": [
        "def random_mask(hd, sparsity):\n",
        "  mask = np.random.uniform(size=(hd, hd))\n",
        "  mask = np.triu(mask, k=0)\n",
        "  mask = (mask > sparsity).astype(int)\n",
        "  mask = np.maximum(mask, mask.T)\n",
        "  mask = torch.from_numpy(mask)\n",
        "  return mask\n",
        "\n",
        "def fixed_width_mlp_layer(mask):\n",
        "  mask = mask.numpy()\n",
        "  return nx.from_numpy_array(mask)\n",
        "\n",
        "def compute_c(G):\n",
        "    G_cluster = list(nx.clustering(G).values())\n",
        "    return sum(G_cluster) / len(G_cluster)  "
      ],
      "metadata": {
        "id": "1ZaypQhjLY7V"
      },
      "execution_count": null,
      "outputs": []
    },
    {
      "cell_type": "code",
      "source": [
        "properties = {\n",
        "    \"avg_degree_centrality\": lambda x: np.array(list(nx.degree_centrality(x).values())).mean(),\n",
        "    \"average_degree_connectivity\": lambda x: np.array(list(nx.average_degree_connectivity(x).values())).mean(),\n",
        "    \"eigenvector_centrality\": lambda x: np.array(list(nx.eigenvector_centrality(x).values())).mean(),\n",
        "    \"clustering_coefficient\": lambda x: nx.average_clustering(x),\n",
        "    \"average_shortest_path_length\": lambda x: nx.average_shortest_path_length(x),\n",
        "    \"s_metric\": lambda x: nx.s_metric(x, False),\n",
        "    \"wiener_index\": lambda x: nx.wiener_index(x),\n",
        "    \"edge_connectivity\": lambda x: nx.edge_connectivity(x),\n",
        "    \"n_cycles\": lambda x: len(nx.find_cycle(G))\n",
        "}\n",
        "\n",
        "def compute_properties(G):\n",
        "  return [p(G) for p in list(properties.values())]"
      ],
      "metadata": {
        "id": "tQ4DXUgLNTCu"
      },
      "execution_count": null,
      "outputs": []
    },
    {
      "cell_type": "code",
      "source": [
        "mask = random_mask(100, 0.5)\n",
        "G = fixed_width_mlp_layer(mask)\n",
        "compute_properties(G)"
      ],
      "metadata": {
        "colab": {
          "base_uri": "https://localhost:8080/"
        },
        "id": "7Mwa5LKLNTGG",
        "outputId": "19722a4a-a30a-4aac-fa41-67e73c310e46"
      },
      "execution_count": null,
      "outputs": [
        {
          "output_type": "execute_result",
          "data": {
            "text/plain": [
              "[0.5022222222222222,\n",
              " 49.600863918079206,\n",
              " 0.0995506392450513,\n",
              " 0.4910355664797759,\n",
              " 1.5074747474747474,\n",
              " 6256757.0,\n",
              " 7462.0,\n",
              " 39,\n",
              " 1]"
            ]
          },
          "metadata": {},
          "execution_count": 6
        }
      ]
    },
    {
      "cell_type": "markdown",
      "source": [
        "# Generate Masks"
      ],
      "metadata": {
        "id": "7_hgCZKqSjBw"
      }
    },
    {
      "cell_type": "code",
      "source": [
        "HIDDEN_DIM = 128\n",
        "SPARSITY = 0.6\n",
        "N_MASKS = 100\n",
        "mask_db = []\n",
        "for i in tqdm.notebook.tqdm(range(N_MASKS)):\n",
        "  mask = random_mask(HIDDEN_DIM, SPARSITY)\n",
        "  G = fixed_width_mlp_layer(mask)  \n",
        "  ps = compute_properties(G)\n",
        "  mask_db.append([mask, ps])"
      ],
      "metadata": {
        "colab": {
          "base_uri": "https://localhost:8080/",
          "height": 49,
          "referenced_widgets": [
            "681e75cc489c44c5bacc06242fc7e8a1",
            "2b7882e7ace84885bbb0e76a76ebe21f",
            "05414ea89bff4df8be98194f5b7b4a05",
            "e937b309046b4bebb1c72afb9b0c5d07",
            "450fbc6f45be43108fabb04b9e4904fa",
            "ae7f966400ce49a7869e9e4b1e1b27cb",
            "5e152e9522a443beb19ee36c6c7c8ef8",
            "ab894b92d6034c998a1e905db12a4940",
            "d9e14e5d73a14a62bf33ebb996ec95d0",
            "1335b234f51546dca03e3d80ccabfb7a",
            "207b7ee1363142a0b35cbc5f2275462e"
          ]
        },
        "id": "FifOdAczSihP",
        "outputId": "67330b15-453f-4055-8451-75612c9ad2a1"
      },
      "execution_count": null,
      "outputs": [
        {
          "output_type": "display_data",
          "data": {
            "text/plain": [
              "  0%|          | 0/100 [00:00<?, ?it/s]"
            ],
            "application/vnd.jupyter.widget-view+json": {
              "version_major": 2,
              "version_minor": 0,
              "model_id": "681e75cc489c44c5bacc06242fc7e8a1"
            }
          },
          "metadata": {}
        }
      ]
    },
    {
      "cell_type": "code",
      "source": [
        "df = pd.DataFrame(np.array([item[1] for item in mask_db]))\n",
        "df.columns = list(properties.keys())"
      ],
      "metadata": {
        "id": "PjGlaRl-Sim5"
      },
      "execution_count": null,
      "outputs": []
    },
    {
      "cell_type": "code",
      "source": [
        "df"
      ],
      "metadata": {
        "colab": {
          "base_uri": "https://localhost:8080/",
          "height": 488
        },
        "id": "EPfy-3u_T9Hs",
        "outputId": "7c180a4a-c3fa-4edb-c220-9e78c1476633"
      },
      "execution_count": null,
      "outputs": [
        {
          "output_type": "execute_result",
          "data": {
            "text/plain": [
              "    avg_degree_centrality  average_degree_connectivity  \\\n",
              "0                0.408588                    51.910990   \n",
              "1                0.407357                    52.040178   \n",
              "2                0.407972                    52.087573   \n",
              "3                0.407480                    52.128302   \n",
              "4                0.406004                    51.661028   \n",
              "..                    ...                          ...   \n",
              "95               0.411663                    52.385770   \n",
              "96               0.400344                    50.922470   \n",
              "97               0.405758                    51.580785   \n",
              "98               0.406988                    52.015856   \n",
              "99               0.402313                    51.342954   \n",
              "\n",
              "    eigenvector_centrality  clustering_coefficient  \\\n",
              "0                 0.087896                0.402393   \n",
              "1                 0.087850                0.400294   \n",
              "2                 0.087855                0.403077   \n",
              "3                 0.087814                0.403933   \n",
              "4                 0.087991                0.399680   \n",
              "..                     ...                     ...   \n",
              "95                0.087924                0.402610   \n",
              "96                0.087978                0.395422   \n",
              "97                0.087877                0.400983   \n",
              "98                0.087788                0.401920   \n",
              "99                0.087849                0.396553   \n",
              "\n",
              "    average_shortest_path_length   s_metric  wiener_index  edge_connectivity  \\\n",
              "0                       1.598548  9131771.0       12993.0               39.0   \n",
              "1                       1.599163  9085670.0       12998.0               40.0   \n",
              "2                       1.598302  9122613.0       12991.0               33.0   \n",
              "3                       1.598425  9102476.0       12992.0               36.0   \n",
              "4                       1.599779  8935651.0       13003.0               41.0   \n",
              "..                           ...        ...           ...                ...   \n",
              "95                      1.594857  9338513.0       12963.0               39.0   \n",
              "96                      1.606176  8568580.0       13055.0               37.0   \n",
              "97                      1.600148  8959353.0       13006.0               36.0   \n",
              "98                      1.598548  9075963.0       12993.0               36.0   \n",
              "99                      1.603593  8748459.0       13034.0               38.0   \n",
              "\n",
              "    n_cycles  \n",
              "0        3.0  \n",
              "1        1.0  \n",
              "2        3.0  \n",
              "3        1.0  \n",
              "4        1.0  \n",
              "..       ...  \n",
              "95       1.0  \n",
              "96       1.0  \n",
              "97       1.0  \n",
              "98       1.0  \n",
              "99       4.0  \n",
              "\n",
              "[100 rows x 9 columns]"
            ],
            "text/html": [
              "\n",
              "  <div id=\"df-52214af5-b093-4aa3-bf25-c2170e04a5c0\">\n",
              "    <div class=\"colab-df-container\">\n",
              "      <div>\n",
              "<style scoped>\n",
              "    .dataframe tbody tr th:only-of-type {\n",
              "        vertical-align: middle;\n",
              "    }\n",
              "\n",
              "    .dataframe tbody tr th {\n",
              "        vertical-align: top;\n",
              "    }\n",
              "\n",
              "    .dataframe thead th {\n",
              "        text-align: right;\n",
              "    }\n",
              "</style>\n",
              "<table border=\"1\" class=\"dataframe\">\n",
              "  <thead>\n",
              "    <tr style=\"text-align: right;\">\n",
              "      <th></th>\n",
              "      <th>avg_degree_centrality</th>\n",
              "      <th>average_degree_connectivity</th>\n",
              "      <th>eigenvector_centrality</th>\n",
              "      <th>clustering_coefficient</th>\n",
              "      <th>average_shortest_path_length</th>\n",
              "      <th>s_metric</th>\n",
              "      <th>wiener_index</th>\n",
              "      <th>edge_connectivity</th>\n",
              "      <th>n_cycles</th>\n",
              "    </tr>\n",
              "  </thead>\n",
              "  <tbody>\n",
              "    <tr>\n",
              "      <th>0</th>\n",
              "      <td>0.408588</td>\n",
              "      <td>51.910990</td>\n",
              "      <td>0.087896</td>\n",
              "      <td>0.402393</td>\n",
              "      <td>1.598548</td>\n",
              "      <td>9131771.0</td>\n",
              "      <td>12993.0</td>\n",
              "      <td>39.0</td>\n",
              "      <td>3.0</td>\n",
              "    </tr>\n",
              "    <tr>\n",
              "      <th>1</th>\n",
              "      <td>0.407357</td>\n",
              "      <td>52.040178</td>\n",
              "      <td>0.087850</td>\n",
              "      <td>0.400294</td>\n",
              "      <td>1.599163</td>\n",
              "      <td>9085670.0</td>\n",
              "      <td>12998.0</td>\n",
              "      <td>40.0</td>\n",
              "      <td>1.0</td>\n",
              "    </tr>\n",
              "    <tr>\n",
              "      <th>2</th>\n",
              "      <td>0.407972</td>\n",
              "      <td>52.087573</td>\n",
              "      <td>0.087855</td>\n",
              "      <td>0.403077</td>\n",
              "      <td>1.598302</td>\n",
              "      <td>9122613.0</td>\n",
              "      <td>12991.0</td>\n",
              "      <td>33.0</td>\n",
              "      <td>3.0</td>\n",
              "    </tr>\n",
              "    <tr>\n",
              "      <th>3</th>\n",
              "      <td>0.407480</td>\n",
              "      <td>52.128302</td>\n",
              "      <td>0.087814</td>\n",
              "      <td>0.403933</td>\n",
              "      <td>1.598425</td>\n",
              "      <td>9102476.0</td>\n",
              "      <td>12992.0</td>\n",
              "      <td>36.0</td>\n",
              "      <td>1.0</td>\n",
              "    </tr>\n",
              "    <tr>\n",
              "      <th>4</th>\n",
              "      <td>0.406004</td>\n",
              "      <td>51.661028</td>\n",
              "      <td>0.087991</td>\n",
              "      <td>0.399680</td>\n",
              "      <td>1.599779</td>\n",
              "      <td>8935651.0</td>\n",
              "      <td>13003.0</td>\n",
              "      <td>41.0</td>\n",
              "      <td>1.0</td>\n",
              "    </tr>\n",
              "    <tr>\n",
              "      <th>...</th>\n",
              "      <td>...</td>\n",
              "      <td>...</td>\n",
              "      <td>...</td>\n",
              "      <td>...</td>\n",
              "      <td>...</td>\n",
              "      <td>...</td>\n",
              "      <td>...</td>\n",
              "      <td>...</td>\n",
              "      <td>...</td>\n",
              "    </tr>\n",
              "    <tr>\n",
              "      <th>95</th>\n",
              "      <td>0.411663</td>\n",
              "      <td>52.385770</td>\n",
              "      <td>0.087924</td>\n",
              "      <td>0.402610</td>\n",
              "      <td>1.594857</td>\n",
              "      <td>9338513.0</td>\n",
              "      <td>12963.0</td>\n",
              "      <td>39.0</td>\n",
              "      <td>1.0</td>\n",
              "    </tr>\n",
              "    <tr>\n",
              "      <th>96</th>\n",
              "      <td>0.400344</td>\n",
              "      <td>50.922470</td>\n",
              "      <td>0.087978</td>\n",
              "      <td>0.395422</td>\n",
              "      <td>1.606176</td>\n",
              "      <td>8568580.0</td>\n",
              "      <td>13055.0</td>\n",
              "      <td>37.0</td>\n",
              "      <td>1.0</td>\n",
              "    </tr>\n",
              "    <tr>\n",
              "      <th>97</th>\n",
              "      <td>0.405758</td>\n",
              "      <td>51.580785</td>\n",
              "      <td>0.087877</td>\n",
              "      <td>0.400983</td>\n",
              "      <td>1.600148</td>\n",
              "      <td>8959353.0</td>\n",
              "      <td>13006.0</td>\n",
              "      <td>36.0</td>\n",
              "      <td>1.0</td>\n",
              "    </tr>\n",
              "    <tr>\n",
              "      <th>98</th>\n",
              "      <td>0.406988</td>\n",
              "      <td>52.015856</td>\n",
              "      <td>0.087788</td>\n",
              "      <td>0.401920</td>\n",
              "      <td>1.598548</td>\n",
              "      <td>9075963.0</td>\n",
              "      <td>12993.0</td>\n",
              "      <td>36.0</td>\n",
              "      <td>1.0</td>\n",
              "    </tr>\n",
              "    <tr>\n",
              "      <th>99</th>\n",
              "      <td>0.402313</td>\n",
              "      <td>51.342954</td>\n",
              "      <td>0.087849</td>\n",
              "      <td>0.396553</td>\n",
              "      <td>1.603593</td>\n",
              "      <td>8748459.0</td>\n",
              "      <td>13034.0</td>\n",
              "      <td>38.0</td>\n",
              "      <td>4.0</td>\n",
              "    </tr>\n",
              "  </tbody>\n",
              "</table>\n",
              "<p>100 rows × 9 columns</p>\n",
              "</div>\n",
              "      <button class=\"colab-df-convert\" onclick=\"convertToInteractive('df-52214af5-b093-4aa3-bf25-c2170e04a5c0')\"\n",
              "              title=\"Convert this dataframe to an interactive table.\"\n",
              "              style=\"display:none;\">\n",
              "        \n",
              "  <svg xmlns=\"http://www.w3.org/2000/svg\" height=\"24px\"viewBox=\"0 0 24 24\"\n",
              "       width=\"24px\">\n",
              "    <path d=\"M0 0h24v24H0V0z\" fill=\"none\"/>\n",
              "    <path d=\"M18.56 5.44l.94 2.06.94-2.06 2.06-.94-2.06-.94-.94-2.06-.94 2.06-2.06.94zm-11 1L8.5 8.5l.94-2.06 2.06-.94-2.06-.94L8.5 2.5l-.94 2.06-2.06.94zm10 10l.94 2.06.94-2.06 2.06-.94-2.06-.94-.94-2.06-.94 2.06-2.06.94z\"/><path d=\"M17.41 7.96l-1.37-1.37c-.4-.4-.92-.59-1.43-.59-.52 0-1.04.2-1.43.59L10.3 9.45l-7.72 7.72c-.78.78-.78 2.05 0 2.83L4 21.41c.39.39.9.59 1.41.59.51 0 1.02-.2 1.41-.59l7.78-7.78 2.81-2.81c.8-.78.8-2.07 0-2.86zM5.41 20L4 18.59l7.72-7.72 1.47 1.35L5.41 20z\"/>\n",
              "  </svg>\n",
              "      </button>\n",
              "      \n",
              "  <style>\n",
              "    .colab-df-container {\n",
              "      display:flex;\n",
              "      flex-wrap:wrap;\n",
              "      gap: 12px;\n",
              "    }\n",
              "\n",
              "    .colab-df-convert {\n",
              "      background-color: #E8F0FE;\n",
              "      border: none;\n",
              "      border-radius: 50%;\n",
              "      cursor: pointer;\n",
              "      display: none;\n",
              "      fill: #1967D2;\n",
              "      height: 32px;\n",
              "      padding: 0 0 0 0;\n",
              "      width: 32px;\n",
              "    }\n",
              "\n",
              "    .colab-df-convert:hover {\n",
              "      background-color: #E2EBFA;\n",
              "      box-shadow: 0px 1px 2px rgba(60, 64, 67, 0.3), 0px 1px 3px 1px rgba(60, 64, 67, 0.15);\n",
              "      fill: #174EA6;\n",
              "    }\n",
              "\n",
              "    [theme=dark] .colab-df-convert {\n",
              "      background-color: #3B4455;\n",
              "      fill: #D2E3FC;\n",
              "    }\n",
              "\n",
              "    [theme=dark] .colab-df-convert:hover {\n",
              "      background-color: #434B5C;\n",
              "      box-shadow: 0px 1px 3px 1px rgba(0, 0, 0, 0.15);\n",
              "      filter: drop-shadow(0px 1px 2px rgba(0, 0, 0, 0.3));\n",
              "      fill: #FFFFFF;\n",
              "    }\n",
              "  </style>\n",
              "\n",
              "      <script>\n",
              "        const buttonEl =\n",
              "          document.querySelector('#df-52214af5-b093-4aa3-bf25-c2170e04a5c0 button.colab-df-convert');\n",
              "        buttonEl.style.display =\n",
              "          google.colab.kernel.accessAllowed ? 'block' : 'none';\n",
              "\n",
              "        async function convertToInteractive(key) {\n",
              "          const element = document.querySelector('#df-52214af5-b093-4aa3-bf25-c2170e04a5c0');\n",
              "          const dataTable =\n",
              "            await google.colab.kernel.invokeFunction('convertToInteractive',\n",
              "                                                     [key], {});\n",
              "          if (!dataTable) return;\n",
              "\n",
              "          const docLinkHtml = 'Like what you see? Visit the ' +\n",
              "            '<a target=\"_blank\" href=https://colab.research.google.com/notebooks/data_table.ipynb>data table notebook</a>'\n",
              "            + ' to learn more about interactive tables.';\n",
              "          element.innerHTML = '';\n",
              "          dataTable['output_type'] = 'display_data';\n",
              "          await google.colab.output.renderOutput(dataTable, element);\n",
              "          const docLink = document.createElement('div');\n",
              "          docLink.innerHTML = docLinkHtml;\n",
              "          element.appendChild(docLink);\n",
              "        }\n",
              "      </script>\n",
              "    </div>\n",
              "  </div>\n",
              "  "
            ]
          },
          "metadata": {},
          "execution_count": 9
        }
      ]
    },
    {
      "cell_type": "code",
      "source": [
        "import seaborn as sns\n",
        "\n",
        "f, ax = plt.subplots(figsize=(10, 8))\n",
        "corr = df.corr()\n",
        "sns.heatmap(corr, mask=np.zeros_like(corr, dtype=np.bool), cmap=sns.diverging_palette(220, 10, as_cmap=True),\n",
        "            square=True, ax=ax)"
      ],
      "metadata": {
        "colab": {
          "base_uri": "https://localhost:8080/",
          "height": 719
        },
        "id": "cBcnM45KSiqK",
        "outputId": "07c05b08-4fb3-406c-e01d-05c1055df0cf"
      },
      "execution_count": null,
      "outputs": [
        {
          "output_type": "stream",
          "name": "stderr",
          "text": [
            "/usr/local/lib/python3.7/dist-packages/ipykernel_launcher.py:5: DeprecationWarning: `np.bool` is a deprecated alias for the builtin `bool`. To silence this warning, use `bool` by itself. Doing this will not modify any behavior and is safe. If you specifically wanted the numpy scalar type, use `np.bool_` here.\n",
            "Deprecated in NumPy 1.20; for more details and guidance: https://numpy.org/devdocs/release/1.20.0-notes.html#deprecations\n",
            "  \"\"\"\n"
          ]
        },
        {
          "output_type": "execute_result",
          "data": {
            "text/plain": [
              "<matplotlib.axes._subplots.AxesSubplot at 0x7f3328507390>"
            ]
          },
          "metadata": {},
          "execution_count": 10
        },
        {
          "output_type": "display_data",
          "data": {
            "text/plain": [
              "<Figure size 720x576 with 2 Axes>"
            ],
            "image/png": "[encoded data removed]"
          },
          "metadata": {
            "needs_background": "light"
          }
        }
      ]
    },
    {
      "cell_type": "code",
      "source": [
        "corr = df.corr()\n",
        "corr.style.background_gradient(cmap='coolwarm').set_precision(2)"
      ],
      "metadata": {
        "colab": {
          "base_uri": "https://localhost:8080/",
          "height": 387
        },
        "id": "n9VQPwrqWDR7",
        "outputId": "5130f3be-c9cc-4a28-8b25-c95d2a8346b9"
      },
      "execution_count": null,
      "outputs": [
        {
          "output_type": "stream",
          "name": "stderr",
          "text": [
            "/usr/local/lib/python3.7/dist-packages/ipykernel_launcher.py:2: FutureWarning: this method is deprecated in favour of `Styler.format(precision=..)`\n",
            "  \n"
          ]
        },
        {
          "output_type": "execute_result",
          "data": {
            "text/plain": [
              "<pandas.io.formats.style.Styler at 0x7f3320203d50>"
            ],
            "text/html": [
              "<style type=\"text/css\">\n",
              "#T_79c13_row0_col0, #T_79c13_row0_col5, #T_79c13_row1_col1, #T_79c13_row2_col2, #T_79c13_row3_col3, #T_79c13_row4_col4, #T_79c13_row4_col6, #T_79c13_row5_col0, #T_79c13_row5_col5, #T_79c13_row6_col4, #T_79c13_row6_col6, #T_79c13_row7_col7, #T_79c13_row8_col8 {\n",
              "  background-color: #b40426;\n",
              "  color: #f1f1f1;\n",
              "}\n",
              "#T_79c13_row0_col1, #T_79c13_row1_col0 {\n",
              "  background-color: #b70d28;\n",
              "  color: #f1f1f1;\n",
              "}\n",
              "#T_79c13_row0_col2 {\n",
              "  background-color: #7295f4;\n",
              "  color: #f1f1f1;\n",
              "}\n",
              "#T_79c13_row0_col3 {\n",
              "  background-color: #c0282f;\n",
              "  color: #f1f1f1;\n",
              "}\n",
              "#T_79c13_row0_col4, #T_79c13_row0_col6, #T_79c13_row1_col4, #T_79c13_row1_col6, #T_79c13_row2_col8, #T_79c13_row3_col2, #T_79c13_row4_col0, #T_79c13_row4_col1, #T_79c13_row4_col2, #T_79c13_row4_col3, #T_79c13_row4_col5, #T_79c13_row4_col7, #T_79c13_row5_col4, #T_79c13_row5_col6, #T_79c13_row6_col0, #T_79c13_row6_col1, #T_79c13_row6_col2, #T_79c13_row6_col3, #T_79c13_row6_col5, #T_79c13_row6_col7 {\n",
              "  background-color: #3b4cc0;\n",
              "  color: #f1f1f1;\n",
              "}\n",
              "#T_79c13_row0_col7 {\n",
              "  background-color: #c9d7f0;\n",
              "  color: #000000;\n",
              "}\n",
              "#T_79c13_row0_col8, #T_79c13_row1_col8 {\n",
              "  background-color: #455cce;\n",
              "  color: #f1f1f1;\n",
              "}\n",
              "#T_79c13_row1_col2 {\n",
              "  background-color: #536edd;\n",
              "  color: #f1f1f1;\n",
              "}\n",
              "#T_79c13_row1_col3, #T_79c13_row3_col5, #T_79c13_row5_col3 {\n",
              "  background-color: #bd1f2d;\n",
              "  color: #f1f1f1;\n",
              "}\n",
              "#T_79c13_row1_col5, #T_79c13_row5_col1 {\n",
              "  background-color: #b50927;\n",
              "  color: #f1f1f1;\n",
              "}\n",
              "#T_79c13_row1_col7 {\n",
              "  background-color: #b7cff9;\n",
              "  color: #000000;\n",
              "}\n",
              "#T_79c13_row2_col0 {\n",
              "  background-color: #e8d6cc;\n",
              "  color: #000000;\n",
              "}\n",
              "#T_79c13_row2_col1 {\n",
              "  background-color: #dadce0;\n",
              "  color: #000000;\n",
              "}\n",
              "#T_79c13_row2_col3 {\n",
              "  background-color: #ccd9ed;\n",
              "  color: #000000;\n",
              "}\n",
              "#T_79c13_row2_col4, #T_79c13_row2_col6 {\n",
              "  background-color: #cfdaea;\n",
              "  color: #000000;\n",
              "}\n",
              "#T_79c13_row2_col5, #T_79c13_row8_col5 {\n",
              "  background-color: #dedcdb;\n",
              "  color: #000000;\n",
              "}\n",
              "#T_79c13_row2_col7 {\n",
              "  background-color: #ead4c8;\n",
              "  color: #000000;\n",
              "}\n",
              "#T_79c13_row3_col0 {\n",
              "  background-color: #be242e;\n",
              "  color: #f1f1f1;\n",
              "}\n",
              "#T_79c13_row3_col1 {\n",
              "  background-color: #bb1b2c;\n",
              "  color: #f1f1f1;\n",
              "}\n",
              "#T_79c13_row3_col4, #T_79c13_row3_col6 {\n",
              "  background-color: #4055c8;\n",
              "  color: #f1f1f1;\n",
              "}\n",
              "#T_79c13_row3_col7 {\n",
              "  background-color: #afcafc;\n",
              "  color: #000000;\n",
              "}\n",
              "#T_79c13_row3_col8 {\n",
              "  background-color: #506bda;\n",
              "  color: #f1f1f1;\n",
              "}\n",
              "#T_79c13_row4_col8, #T_79c13_row6_col8 {\n",
              "  background-color: #3c4ec2;\n",
              "  color: #f1f1f1;\n",
              "}\n",
              "#T_79c13_row5_col2 {\n",
              "  background-color: #5b7ae5;\n",
              "  color: #f1f1f1;\n",
              "}\n",
              "#T_79c13_row5_col7 {\n",
              "  background-color: #c1d4f4;\n",
              "  color: #000000;\n",
              "}\n",
              "#T_79c13_row5_col8 {\n",
              "  background-color: #465ecf;\n",
              "  color: #f1f1f1;\n",
              "}\n",
              "#T_79c13_row7_col0 {\n",
              "  background-color: #f5c1a9;\n",
              "  color: #000000;\n",
              "}\n",
              "#T_79c13_row7_col1 {\n",
              "  background-color: #f1ccb8;\n",
              "  color: #000000;\n",
              "}\n",
              "#T_79c13_row7_col2, #T_79c13_row8_col4, #T_79c13_row8_col6 {\n",
              "  background-color: #d9dce1;\n",
              "  color: #000000;\n",
              "}\n",
              "#T_79c13_row7_col3 {\n",
              "  background-color: #eed0c0;\n",
              "  color: #000000;\n",
              "}\n",
              "#T_79c13_row7_col4, #T_79c13_row7_col6 {\n",
              "  background-color: #b2ccfb;\n",
              "  color: #000000;\n",
              "}\n",
              "#T_79c13_row7_col5 {\n",
              "  background-color: #f4c6af;\n",
              "  color: #000000;\n",
              "}\n",
              "#T_79c13_row7_col8 {\n",
              "  background-color: #3e51c5;\n",
              "  color: #f1f1f1;\n",
              "}\n",
              "#T_79c13_row8_col0, #T_79c13_row8_col1 {\n",
              "  background-color: #dddcdc;\n",
              "  color: #000000;\n",
              "}\n",
              "#T_79c13_row8_col2 {\n",
              "  background-color: #4e68d8;\n",
              "  color: #f1f1f1;\n",
              "}\n",
              "#T_79c13_row8_col3 {\n",
              "  background-color: #dfdbd9;\n",
              "  color: #000000;\n",
              "}\n",
              "#T_79c13_row8_col7 {\n",
              "  background-color: #7da0f9;\n",
              "  color: #f1f1f1;\n",
              "}\n",
              "</style>\n",
              "<table id=\"T_79c13_\" class=\"dataframe\">\n",
              "  <thead>\n",
              "    <tr>\n",
              "      <th class=\"blank level0\" >&nbsp;</th>\n",
              "      <th class=\"col_heading level0 col0\" >avg_degree_centrality</th>\n",
              "      <th class=\"col_heading level0 col1\" >average_degree_connectivity</th>\n",
              "      <th class=\"col_heading level0 col2\" >eigenvector_centrality</th>\n",
              "      <th class=\"col_heading level0 col3\" >clustering_coefficient</th>\n",
              "      <th class=\"col_heading level0 col4\" >average_shortest_path_length</th>\n",
              "      <th class=\"col_heading level0 col5\" >s_metric</th>\n",
              "      <th class=\"col_heading level0 col6\" >wiener_index</th>\n",
              "      <th class=\"col_heading level0 col7\" >edge_connectivity</th>\n",
              "      <th class=\"col_heading level0 col8\" >n_cycles</th>\n",
              "    </tr>\n",
              "  </thead>\n",
              "  <tbody>\n",
              "    <tr>\n",
              "      <th id=\"T_79c13_level0_row0\" class=\"row_heading level0 row0\" >avg_degree_centrality</th>\n",
              "      <td id=\"T_79c13_row0_col0\" class=\"data row0 col0\" >1.00</td>\n",
              "      <td id=\"T_79c13_row0_col1\" class=\"data row0 col1\" >0.98</td>\n",
              "      <td id=\"T_79c13_row0_col2\" class=\"data row0 col2\" >0.09</td>\n",
              "      <td id=\"T_79c13_row0_col3\" class=\"data row0 col3\" >0.94</td>\n",
              "      <td id=\"T_79c13_row0_col4\" class=\"data row0 col4\" >-0.99</td>\n",
              "      <td id=\"T_79c13_row0_col5\" class=\"data row0 col5\" >1.00</td>\n",
              "      <td id=\"T_79c13_row0_col6\" class=\"data row0 col6\" >-0.99</td>\n",
              "      <td id=\"T_79c13_row0_col7\" class=\"data row0 col7\" >0.27</td>\n",
              "      <td id=\"T_79c13_row0_col8\" class=\"data row0 col8\" >0.01</td>\n",
              "    </tr>\n",
              "    <tr>\n",
              "      <th id=\"T_79c13_level0_row1\" class=\"row_heading level0 row1\" >average_degree_connectivity</th>\n",
              "      <td id=\"T_79c13_row1_col0\" class=\"data row1 col0\" >0.98</td>\n",
              "      <td id=\"T_79c13_row1_col1\" class=\"data row1 col1\" >1.00</td>\n",
              "      <td id=\"T_79c13_row1_col2\" class=\"data row1 col2\" >-0.01</td>\n",
              "      <td id=\"T_79c13_row1_col3\" class=\"data row1 col3\" >0.95</td>\n",
              "      <td id=\"T_79c13_row1_col4\" class=\"data row1 col4\" >-0.98</td>\n",
              "      <td id=\"T_79c13_row1_col5\" class=\"data row1 col5\" >0.99</td>\n",
              "      <td id=\"T_79c13_row1_col6\" class=\"data row1 col6\" >-0.98</td>\n",
              "      <td id=\"T_79c13_row1_col7\" class=\"data row1 col7\" >0.20</td>\n",
              "      <td id=\"T_79c13_row1_col8\" class=\"data row1 col8\" >0.01</td>\n",
              "    </tr>\n",
              "    <tr>\n",
              "      <th id=\"T_79c13_level0_row2\" class=\"row_heading level0 row2\" >eigenvector_centrality</th>\n",
              "      <td id=\"T_79c13_row2_col0\" class=\"data row2 col0\" >0.09</td>\n",
              "      <td id=\"T_79c13_row2_col1\" class=\"data row2 col1\" >-0.01</td>\n",
              "      <td id=\"T_79c13_row2_col2\" class=\"data row2 col2\" >1.00</td>\n",
              "      <td id=\"T_79c13_row2_col3\" class=\"data row2 col3\" >-0.09</td>\n",
              "      <td id=\"T_79c13_row2_col4\" class=\"data row2 col4\" >-0.10</td>\n",
              "      <td id=\"T_79c13_row2_col5\" class=\"data row2 col5\" >0.02</td>\n",
              "      <td id=\"T_79c13_row2_col6\" class=\"data row2 col6\" >-0.10</td>\n",
              "      <td id=\"T_79c13_row2_col7\" class=\"data row2 col7\" >0.44</td>\n",
              "      <td id=\"T_79c13_row2_col8\" class=\"data row2 col8\" >-0.03</td>\n",
              "    </tr>\n",
              "    <tr>\n",
              "      <th id=\"T_79c13_level0_row3\" class=\"row_heading level0 row3\" >clustering_coefficient</th>\n",
              "      <td id=\"T_79c13_row3_col0\" class=\"data row3 col0\" >0.94</td>\n",
              "      <td id=\"T_79c13_row3_col1\" class=\"data row3 col1\" >0.95</td>\n",
              "      <td id=\"T_79c13_row3_col2\" class=\"data row3 col2\" >-0.09</td>\n",
              "      <td id=\"T_79c13_row3_col3\" class=\"data row3 col3\" >1.00</td>\n",
              "      <td id=\"T_79c13_row3_col4\" class=\"data row3 col4\" >-0.95</td>\n",
              "      <td id=\"T_79c13_row3_col5\" class=\"data row3 col5\" >0.95</td>\n",
              "      <td id=\"T_79c13_row3_col6\" class=\"data row3 col6\" >-0.95</td>\n",
              "      <td id=\"T_79c13_row3_col7\" class=\"data row3 col7\" >0.17</td>\n",
              "      <td id=\"T_79c13_row3_col8\" class=\"data row3 col8\" >0.05</td>\n",
              "    </tr>\n",
              "    <tr>\n",
              "      <th id=\"T_79c13_level0_row4\" class=\"row_heading level0 row4\" >average_shortest_path_length</th>\n",
              "      <td id=\"T_79c13_row4_col0\" class=\"data row4 col0\" >-0.99</td>\n",
              "      <td id=\"T_79c13_row4_col1\" class=\"data row4 col1\" >-0.98</td>\n",
              "      <td id=\"T_79c13_row4_col2\" class=\"data row4 col2\" >-0.10</td>\n",
              "      <td id=\"T_79c13_row4_col3\" class=\"data row4 col3\" >-0.95</td>\n",
              "      <td id=\"T_79c13_row4_col4\" class=\"data row4 col4\" >1.00</td>\n",
              "      <td id=\"T_79c13_row4_col5\" class=\"data row4 col5\" >-0.99</td>\n",
              "      <td id=\"T_79c13_row4_col6\" class=\"data row4 col6\" >1.00</td>\n",
              "      <td id=\"T_79c13_row4_col7\" class=\"data row4 col7\" >-0.28</td>\n",
              "      <td id=\"T_79c13_row4_col8\" class=\"data row4 col8\" >-0.02</td>\n",
              "    </tr>\n",
              "    <tr>\n",
              "      <th id=\"T_79c13_level0_row5\" class=\"row_heading level0 row5\" >s_metric</th>\n",
              "      <td id=\"T_79c13_row5_col0\" class=\"data row5 col0\" >1.00</td>\n",
              "      <td id=\"T_79c13_row5_col1\" class=\"data row5 col1\" >0.99</td>\n",
              "      <td id=\"T_79c13_row5_col2\" class=\"data row5 col2\" >0.02</td>\n",
              "      <td id=\"T_79c13_row5_col3\" class=\"data row5 col3\" >0.95</td>\n",
              "      <td id=\"T_79c13_row5_col4\" class=\"data row5 col4\" >-0.99</td>\n",
              "      <td id=\"T_79c13_row5_col5\" class=\"data row5 col5\" >1.00</td>\n",
              "      <td id=\"T_79c13_row5_col6\" class=\"data row5 col6\" >-0.99</td>\n",
              "      <td id=\"T_79c13_row5_col7\" class=\"data row5 col7\" >0.24</td>\n",
              "      <td id=\"T_79c13_row5_col8\" class=\"data row5 col8\" >0.01</td>\n",
              "    </tr>\n",
              "    <tr>\n",
              "      <th id=\"T_79c13_level0_row6\" class=\"row_heading level0 row6\" >wiener_index</th>\n",
              "      <td id=\"T_79c13_row6_col0\" class=\"data row6 col0\" >-0.99</td>\n",
              "      <td id=\"T_79c13_row6_col1\" class=\"data row6 col1\" >-0.98</td>\n",
              "      <td id=\"T_79c13_row6_col2\" class=\"data row6 col2\" >-0.10</td>\n",
              "      <td id=\"T_79c13_row6_col3\" class=\"data row6 col3\" >-0.95</td>\n",
              "      <td id=\"T_79c13_row6_col4\" class=\"data row6 col4\" >1.00</td>\n",
              "      <td id=\"T_79c13_row6_col5\" class=\"data row6 col5\" >-0.99</td>\n",
              "      <td id=\"T_79c13_row6_col6\" class=\"data row6 col6\" >1.00</td>\n",
              "      <td id=\"T_79c13_row6_col7\" class=\"data row6 col7\" >-0.28</td>\n",
              "      <td id=\"T_79c13_row6_col8\" class=\"data row6 col8\" >-0.02</td>\n",
              "    </tr>\n",
              "    <tr>\n",
              "      <th id=\"T_79c13_level0_row7\" class=\"row_heading level0 row7\" >edge_connectivity</th>\n",
              "      <td id=\"T_79c13_row7_col0\" class=\"data row7 col0\" >0.27</td>\n",
              "      <td id=\"T_79c13_row7_col1\" class=\"data row7 col1\" >0.20</td>\n",
              "      <td id=\"T_79c13_row7_col2\" class=\"data row7 col2\" >0.44</td>\n",
              "      <td id=\"T_79c13_row7_col3\" class=\"data row7 col3\" >0.17</td>\n",
              "      <td id=\"T_79c13_row7_col4\" class=\"data row7 col4\" >-0.28</td>\n",
              "      <td id=\"T_79c13_row7_col5\" class=\"data row7 col5\" >0.24</td>\n",
              "      <td id=\"T_79c13_row7_col6\" class=\"data row7 col6\" >-0.28</td>\n",
              "      <td id=\"T_79c13_row7_col7\" class=\"data row7 col7\" >1.00</td>\n",
              "      <td id=\"T_79c13_row7_col8\" class=\"data row7 col8\" >-0.01</td>\n",
              "    </tr>\n",
              "    <tr>\n",
              "      <th id=\"T_79c13_level0_row8\" class=\"row_heading level0 row8\" >n_cycles</th>\n",
              "      <td id=\"T_79c13_row8_col0\" class=\"data row8 col0\" >0.01</td>\n",
              "      <td id=\"T_79c13_row8_col1\" class=\"data row8 col1\" >0.01</td>\n",
              "      <td id=\"T_79c13_row8_col2\" class=\"data row8 col2\" >-0.03</td>\n",
              "      <td id=\"T_79c13_row8_col3\" class=\"data row8 col3\" >0.05</td>\n",
              "      <td id=\"T_79c13_row8_col4\" class=\"data row8 col4\" >-0.02</td>\n",
              "      <td id=\"T_79c13_row8_col5\" class=\"data row8 col5\" >0.01</td>\n",
              "      <td id=\"T_79c13_row8_col6\" class=\"data row8 col6\" >-0.02</td>\n",
              "      <td id=\"T_79c13_row8_col7\" class=\"data row8 col7\" >-0.01</td>\n",
              "      <td id=\"T_79c13_row8_col8\" class=\"data row8 col8\" >1.00</td>\n",
              "    </tr>\n",
              "  </tbody>\n",
              "</table>\n"
            ]
          },
          "metadata": {},
          "execution_count": 11
        }
      ]
    },
    {
      "cell_type": "code",
      "source": [
        "drops = [\n",
        "         \"average_degree_connectivity\",\n",
        "         \"s_metric\",\n",
        "         \"average_shortest_path_length\",\n",
        "         \"wiener_index\",\n",
        "]\n",
        "\n",
        "properties = {k:properties[k] for k in properties if k not in drops}\n",
        "\n",
        "def compute_properties(G):\n",
        "  return [p(G) for p in list(properties.values())]"
      ],
      "metadata": {
        "id": "IK3W5FbMV5nZ"
      },
      "execution_count": null,
      "outputs": []
    },
    {
      "cell_type": "code",
      "source": [
        "properties\n",
        "#eigenvectors -- graph properties\n",
        "#cycle based propertiessli"
      ],
      "metadata": {
        "colab": {
          "base_uri": "https://localhost:8080/"
        },
        "id": "568ofVHjrHhu",
        "outputId": "bdfd539e-2928-42da-dd4b-79854731faf3"
      },
      "execution_count": null,
      "outputs": [
        {
          "output_type": "execute_result",
          "data": {
            "text/plain": [
              "{'avg_degree_centrality': <function __main__.<lambda>>,\n",
              " 'clustering_coefficient': <function __main__.<lambda>>,\n",
              " 'edge_connectivity': <function __main__.<lambda>>,\n",
              " 'eigenvector_centrality': <function __main__.<lambda>>,\n",
              " 'n_cycles': <function __main__.<lambda>>}"
            ]
          },
          "metadata": {},
          "execution_count": 13
        }
      ]
    },
    {
      "cell_type": "markdown",
      "source": [
        "# BayesOpt For Learning Masks with Certain Properties\n",
        "\n",
        "## Start with fixed sparsity\n",
        "### Generate masks again"
      ],
      "metadata": {
        "id": "XtutHmLWrslN"
      }
    },
    {
      "cell_type": "code",
      "source": [
        "INP_DIM = X_train.shape[1]\n",
        "HIDDEN_DIM = 128\n",
        "SPARSITY = 0.6\n",
        "OUTPUT_DIM = 10\n",
        "N_MASKS = 1000\n",
        "N_ITER_TRAIN = 50"
      ],
      "metadata": {
        "id": "HujDxC6frrmd"
      },
      "execution_count": null,
      "outputs": []
    },
    {
      "cell_type": "markdown",
      "source": [
        "### Generate Mask DB"
      ],
      "metadata": {
        "id": "IJHdo1kAgiEc"
      }
    },
    {
      "cell_type": "code",
      "source": [
        "mask_db = []\n",
        "for i in tqdm.notebook.tqdm(range(N_MASKS)):\n",
        "  mask = random_mask(HIDDEN_DIM, SPARSITY)\n",
        "  G = fixed_width_mlp_layer(mask)  \n",
        "  ps = compute_properties(G)\n",
        "  mask_db.append([mask, ps])"
      ],
      "metadata": {
        "colab": {
          "base_uri": "https://localhost:8080/",
          "height": 49,
          "referenced_widgets": [
            "64e5d1a76df7418a8bb83ca352feea28",
            "83d188e3b14e41c0992be20c1220c8f9",
            "d05c91fe42324e44926fcaa9d39fef2c",
            "7aa785ad90b54aa19a45c6848cf88474",
            "a0c8567556ba47afa42053763a4cc94c",
            "2f101a85dfa74451910c6cfa6eb3f483",
            "6b4d87a26d2c4f54b9ca220c4acc79a6",
            "f0937183088e4c7988a58b2ecf91322a",
            "0873c71835244d61b24b87d449cc3b0c",
            "94555b6762f94d34a41ddd546d473275",
            "601fb634da0c4fbcb1dfe74e51684008"
          ]
        },
        "id": "vTxNQ75BWnIn",
        "outputId": "33f33a37-85b7-49aa-9c98-955235d503e0"
      },
      "execution_count": null,
      "outputs": [
        {
          "output_type": "display_data",
          "data": {
            "text/plain": [
              "  0%|          | 0/1000 [00:00<?, ?it/s]"
            ],
            "application/vnd.jupyter.widget-view+json": {
              "version_major": 2,
              "version_minor": 0,
              "model_id": "64e5d1a76df7418a8bb83ca352feea28"
            }
          },
          "metadata": {}
        }
      ]
    },
    {
      "cell_type": "code",
      "source": [
        "# mask_db"
      ],
      "metadata": {
        "id": "15_hIkIlroim"
      },
      "execution_count": null,
      "outputs": []
    },
    {
      "cell_type": "code",
      "source": [
        "assert len(mask_db[0][1])==len(properties)\n",
        "\n",
        "mask_vecs = np.array([item[1] for item in mask_db])\n",
        "mins = mask_vecs.min(0)\n",
        "maxs = mask_vecs.max(0)\n",
        "ranges = {\n",
        "    list(properties.keys())[i]:(mins[i], maxs[i]) for i in range(len(properties))\n",
        "}\n",
        "for p in ranges:\n",
        "  print(f\"{p}: {ranges[p][0]}-{ranges[p][1]}\")\n",
        "\n",
        "M = mask_vecs.ptp(0)\n",
        "D = mask_vecs.min(0)\n",
        "mask_vecs = (mask_vecs - D) / M\n",
        "mask_vecs = sklearn.preprocessing.normalize(mask_vecs, norm=\"l2\")"
      ],
      "metadata": {
        "colab": {
          "base_uri": "https://localhost:8080/"
        },
        "id": "N9bMmjvUXKuP",
        "outputId": "7debca0e-5327-44a7-f68d-a7713fb5e7d1"
      },
      "execution_count": null,
      "outputs": [
        {
          "output_type": "stream",
          "name": "stdout",
          "text": [
            "avg_degree_centrality: 0.38508858267716545-0.42470472440944884\n",
            "eigenvector_centrality: 0.08765953197717677-0.08805724290498909\n",
            "clustering_coefficient: 0.3765750930033349-0.4173340685957204\n",
            "edge_connectivity: 27.0-43.0\n",
            "n_cycles: 1.0-7.0\n"
          ]
        }
      ]
    },
    {
      "cell_type": "code",
      "source": [
        "# mask_db"
      ],
      "metadata": {
        "id": "foCxVNUsk7BT"
      },
      "execution_count": null,
      "outputs": []
    },
    {
      "cell_type": "code",
      "source": [
        "def preprocess(v):\n",
        "  v = (v-D)/M\n",
        "  return sklearn.preprocessing.normalize(v.reshape(-1,1), axis=0, norm=\"l2\").ravel()\n",
        "\n",
        "def fetch_mask(p):\n",
        "  p = preprocess(p)\n",
        "  idx = mask_vecs.dot(new).argmax()\n",
        "  return mask_db[idx][0]  \n",
        "\n",
        "p = mask_db[65][1]\n",
        "new = preprocess(p)\n",
        "print(mask_vecs.dot(new).argmax())\n",
        "fetch_mask(p)"
      ],
      "metadata": {
        "colab": {
          "base_uri": "https://localhost:8080/"
        },
        "id": "JwtmP_V3Zs48",
        "outputId": "b15273af-45c4-4e94-abf1-c30e1e2aed78"
      },
      "execution_count": null,
      "outputs": [
        {
          "output_type": "stream",
          "name": "stdout",
          "text": [
            "65\n"
          ]
        },
        {
          "output_type": "execute_result",
          "data": {
            "text/plain": [
              "tensor([[1, 1, 0,  ..., 0, 1, 0],\n",
              "        [1, 0, 0,  ..., 0, 0, 1],\n",
              "        [0, 0, 1,  ..., 1, 1, 0],\n",
              "        ...,\n",
              "        [0, 0, 1,  ..., 0, 0, 0],\n",
              "        [1, 0, 1,  ..., 0, 0, 0],\n",
              "        [0, 1, 0,  ..., 0, 0, 0]])"
            ]
          },
          "metadata": {},
          "execution_count": 18
        }
      ]
    },
    {
      "cell_type": "code",
      "source": [
        "def f(**kwargs):\n",
        "  p = np.array(list(kwargs.values()))\n",
        "  mask = fetch_mask(p)\n",
        "  return model_performance(mask, N_ITER_TRAIN)"
      ],
      "metadata": {
        "id": "tTEXo-rY_B_x"
      },
      "execution_count": null,
      "outputs": []
    },
    {
      "cell_type": "code",
      "source": [
        "from bayes_opt import BayesianOptimization\n",
        "\n",
        "optimizer = BayesianOptimization(\n",
        "    f, \n",
        "    ranges,\n",
        "    random_state=42\n",
        ")"
      ],
      "metadata": {
        "id": "AclTkdXtBPPm"
      },
      "execution_count": null,
      "outputs": []
    },
    {
      "cell_type": "code",
      "source": [
        "optimizer.maximize(init_points=5, n_iter=20, kappa=5)"
      ],
      "metadata": {
        "colab": {
          "base_uri": "https://localhost:8080/"
        },
        "id": "IzwcETj-CENQ",
        "outputId": "334fd29e-4e47-4d1c-a80a-b10c47ca3da2"
      },
      "execution_count": null,
      "outputs": [
        {
          "output_type": "stream",
          "name": "stdout",
          "text": [
            "|   iter    |  target   | avg_de... | cluste... | edge_c... | eigenv... | n_cycles  |\n",
            "-------------------------------------------------------------------------------------\n",
            "| \u001b[0m 1       \u001b[0m | \u001b[0m 0.7145  \u001b[0m | \u001b[0m 0.3999  \u001b[0m | \u001b[0m 0.4153  \u001b[0m | \u001b[0m 38.71   \u001b[0m | \u001b[0m 0.0879  \u001b[0m | \u001b[0m 1.936   \u001b[0m |\n",
            "| \u001b[95m 2       \u001b[0m | \u001b[95m 0.9056  \u001b[0m | \u001b[95m 0.3913  \u001b[0m | \u001b[95m 0.3789  \u001b[0m | \u001b[95m 40.86   \u001b[0m | \u001b[95m 0.0879  \u001b[0m | \u001b[95m 5.248   \u001b[0m |\n",
            "| \u001b[0m 3       \u001b[0m | \u001b[0m 0.7395  \u001b[0m | \u001b[0m 0.3859  \u001b[0m | \u001b[0m 0.4161  \u001b[0m | \u001b[0m 40.32   \u001b[0m | \u001b[0m 0.08774 \u001b[0m | \u001b[0m 2.091   \u001b[0m |\n",
            "| \u001b[0m 4       \u001b[0m | \u001b[0m 0.665   \u001b[0m | \u001b[0m 0.3924  \u001b[0m | \u001b[0m 0.389   \u001b[0m | \u001b[0m 35.4    \u001b[0m | \u001b[0m 0.08783 \u001b[0m | \u001b[0m 2.747   \u001b[0m |\n",
            "| \u001b[0m 5       \u001b[0m | \u001b[0m 0.5507  \u001b[0m | \u001b[0m 0.4093  \u001b[0m | \u001b[0m 0.3823  \u001b[0m | \u001b[0m 31.67   \u001b[0m | \u001b[0m 0.08781 \u001b[0m | \u001b[0m 3.736   \u001b[0m |\n",
            "| \u001b[0m 6       \u001b[0m | \u001b[0m 0.7493  \u001b[0m | \u001b[0m 0.4247  \u001b[0m | \u001b[0m 0.4173  \u001b[0m | \u001b[0m 43.0    \u001b[0m | \u001b[0m 0.08801 \u001b[0m | \u001b[0m 7.0     \u001b[0m |\n",
            "| \u001b[0m 7       \u001b[0m | \u001b[0m 0.7471  \u001b[0m | \u001b[0m 0.4247  \u001b[0m | \u001b[0m 0.3766  \u001b[0m | \u001b[0m 38.27   \u001b[0m | \u001b[0m 0.08766 \u001b[0m | \u001b[0m 7.0     \u001b[0m |\n",
            "| \u001b[0m 8       \u001b[0m | \u001b[0m 0.7482  \u001b[0m | \u001b[0m 0.3851  \u001b[0m | \u001b[0m 0.3766  \u001b[0m | \u001b[0m 43.0    \u001b[0m | \u001b[0m 0.08766 \u001b[0m | \u001b[0m 3.712   \u001b[0m |\n",
            "| \u001b[0m 9       \u001b[0m | \u001b[0m 0.5856  \u001b[0m | \u001b[0m 0.3887  \u001b[0m | \u001b[0m 0.4124  \u001b[0m | \u001b[0m 27.01   \u001b[0m | \u001b[0m 0.08777 \u001b[0m | \u001b[0m 6.876   \u001b[0m |\n",
            "| \u001b[0m 10      \u001b[0m | \u001b[0m 0.8374  \u001b[0m | \u001b[0m 0.4247  \u001b[0m | \u001b[0m 0.4173  \u001b[0m | \u001b[0m 27.0    \u001b[0m | \u001b[0m 0.08806 \u001b[0m | \u001b[0m 1.0     \u001b[0m |\n",
            "| \u001b[0m 11      \u001b[0m | \u001b[0m 0.7417  \u001b[0m | \u001b[0m 0.3851  \u001b[0m | \u001b[0m 0.4173  \u001b[0m | \u001b[0m 34.5    \u001b[0m | \u001b[0m 0.08766 \u001b[0m | \u001b[0m 7.0     \u001b[0m |\n",
            "| \u001b[0m 12      \u001b[0m | \u001b[0m 0.8961  \u001b[0m | \u001b[0m 0.4247  \u001b[0m | \u001b[0m 0.3766  \u001b[0m | \u001b[0m 39.0    \u001b[0m | \u001b[0m 0.08766 \u001b[0m | \u001b[0m 4.582   \u001b[0m |\n",
            "| \u001b[0m 13      \u001b[0m | \u001b[0m 0.852   \u001b[0m | \u001b[0m 0.3851  \u001b[0m | \u001b[0m 0.4173  \u001b[0m | \u001b[0m 29.55   \u001b[0m | \u001b[0m 0.08766 \u001b[0m | \u001b[0m 1.0     \u001b[0m |\n",
            "| \u001b[0m 14      \u001b[0m | \u001b[0m 0.7565  \u001b[0m | \u001b[0m 0.4247  \u001b[0m | \u001b[0m 0.4173  \u001b[0m | \u001b[0m 27.0    \u001b[0m | \u001b[0m 0.08806 \u001b[0m | \u001b[0m 3.328   \u001b[0m |\n",
            "| \u001b[0m 15      \u001b[0m | \u001b[0m 0.7495  \u001b[0m | \u001b[0m 0.4036  \u001b[0m | \u001b[0m 0.411   \u001b[0m | \u001b[0m 42.91   \u001b[0m | \u001b[0m 0.08792 \u001b[0m | \u001b[0m 1.105   \u001b[0m |\n",
            "| \u001b[0m 16      \u001b[0m | \u001b[0m 0.7861  \u001b[0m | \u001b[0m 0.3928  \u001b[0m | \u001b[0m 0.3835  \u001b[0m | \u001b[0m 40.46   \u001b[0m | \u001b[0m 0.08794 \u001b[0m | \u001b[0m 6.974   \u001b[0m |\n",
            "| \u001b[0m 17      \u001b[0m | \u001b[0m 0.8337  \u001b[0m | \u001b[0m 0.4247  \u001b[0m | \u001b[0m 0.4173  \u001b[0m | \u001b[0m 32.45   \u001b[0m | \u001b[0m 0.08806 \u001b[0m | \u001b[0m 1.0     \u001b[0m |\n",
            "| \u001b[0m 18      \u001b[0m | \u001b[0m 0.8317  \u001b[0m | \u001b[0m 0.3851  \u001b[0m | \u001b[0m 0.4173  \u001b[0m | \u001b[0m 31.07   \u001b[0m | \u001b[0m 0.08806 \u001b[0m | \u001b[0m 7.0     \u001b[0m |\n",
            "| \u001b[95m 19      \u001b[0m | \u001b[95m 0.9203  \u001b[0m | \u001b[95m 0.4247  \u001b[0m | \u001b[95m 0.4173  \u001b[0m | \u001b[95m 40.39   \u001b[0m | \u001b[95m 0.08806 \u001b[0m | \u001b[95m 3.983   \u001b[0m |\n",
            "| \u001b[0m 20      \u001b[0m | \u001b[0m 0.7246  \u001b[0m | \u001b[0m 0.3851  \u001b[0m | \u001b[0m 0.4173  \u001b[0m | \u001b[0m 36.79   \u001b[0m | \u001b[0m 0.08806 \u001b[0m | \u001b[0m 5.094   \u001b[0m |\n",
            "| \u001b[0m 21      \u001b[0m | \u001b[0m 0.7318  \u001b[0m | \u001b[0m 0.3851  \u001b[0m | \u001b[0m 0.4173  \u001b[0m | \u001b[0m 34.39   \u001b[0m | \u001b[0m 0.08766 \u001b[0m | \u001b[0m 1.0     \u001b[0m |\n",
            "| \u001b[0m 22      \u001b[0m | \u001b[0m 0.8121  \u001b[0m | \u001b[0m 0.4247  \u001b[0m | \u001b[0m 0.3766  \u001b[0m | \u001b[0m 28.83   \u001b[0m | \u001b[0m 0.08806 \u001b[0m | \u001b[0m 2.588   \u001b[0m |\n",
            "| \u001b[0m 23      \u001b[0m | \u001b[0m 0.6614  \u001b[0m | \u001b[0m 0.4163  \u001b[0m | \u001b[0m 0.3819  \u001b[0m | \u001b[0m 29.4    \u001b[0m | \u001b[0m 0.08794 \u001b[0m | \u001b[0m 5.698   \u001b[0m |\n",
            "| \u001b[0m 24      \u001b[0m | \u001b[0m 0.7221  \u001b[0m | \u001b[0m 0.416   \u001b[0m | \u001b[0m 0.3801  \u001b[0m | \u001b[0m 32.64   \u001b[0m | \u001b[0m 0.08785 \u001b[0m | \u001b[0m 6.982   \u001b[0m |\n",
            "| \u001b[0m 25      \u001b[0m | \u001b[0m 0.7641  \u001b[0m | \u001b[0m 0.3891  \u001b[0m | \u001b[0m 0.4051  \u001b[0m | \u001b[0m 39.72   \u001b[0m | \u001b[0m 0.08805 \u001b[0m | \u001b[0m 5.478   \u001b[0m |\n",
            "=====================================================================================\n"
          ]
        }
      ]
    },
    {
      "cell_type": "code",
      "source": [
        "optimizer.maximize(init_points=24, n_iter=1, kappa=5)"
      ],
      "metadata": {
        "id": "Y3kRL8IkgEQm",
        "outputId": "e4c25465-dcad-44c6-9ae1-eba335dbf61a",
        "colab": {
          "base_uri": "https://localhost:8080/"
        }
      },
      "execution_count": null,
      "outputs": [
        {
          "output_type": "stream",
          "name": "stdout",
          "text": [
            "|   iter    |  target   | avg_de... | cluste... | edge_c... | eigenv... | n_cycles  |\n",
            "-------------------------------------------------------------------------------------\n",
            "| \u001b[0m 1       \u001b[0m | \u001b[0m 0.6858  \u001b[0m | \u001b[0m 0.3999  \u001b[0m | \u001b[0m 0.4153  \u001b[0m | \u001b[0m 38.71   \u001b[0m | \u001b[0m 0.0879  \u001b[0m | \u001b[0m 1.936   \u001b[0m |\n",
            "| \u001b[95m 2       \u001b[0m | \u001b[95m 0.8345  \u001b[0m | \u001b[95m 0.3913  \u001b[0m | \u001b[95m 0.3789  \u001b[0m | \u001b[95m 40.86   \u001b[0m | \u001b[95m 0.0879  \u001b[0m | \u001b[95m 5.248   \u001b[0m |\n",
            "| \u001b[0m 3       \u001b[0m | \u001b[0m 0.7391  \u001b[0m | \u001b[0m 0.3859  \u001b[0m | \u001b[0m 0.4161  \u001b[0m | \u001b[0m 40.32   \u001b[0m | \u001b[0m 0.08774 \u001b[0m | \u001b[0m 2.091   \u001b[0m |\n",
            "| \u001b[0m 4       \u001b[0m | \u001b[0m 0.6356  \u001b[0m | \u001b[0m 0.3924  \u001b[0m | \u001b[0m 0.389   \u001b[0m | \u001b[0m 35.4    \u001b[0m | \u001b[0m 0.08783 \u001b[0m | \u001b[0m 2.747   \u001b[0m |\n",
            "| \u001b[95m 5       \u001b[0m | \u001b[95m 0.835   \u001b[0m | \u001b[95m 0.4093  \u001b[0m | \u001b[95m 0.3823  \u001b[0m | \u001b[95m 31.67   \u001b[0m | \u001b[95m 0.08781 \u001b[0m | \u001b[95m 3.736   \u001b[0m |\n",
            "| \u001b[0m 6       \u001b[0m | \u001b[0m 0.656   \u001b[0m | \u001b[0m 0.4162  \u001b[0m | \u001b[0m 0.3847  \u001b[0m | \u001b[0m 35.23   \u001b[0m | \u001b[0m 0.0879  \u001b[0m | \u001b[0m 1.279   \u001b[0m |\n",
            "| \u001b[0m 7       \u001b[0m | \u001b[0m 0.7411  \u001b[0m | \u001b[0m 0.4092  \u001b[0m | \u001b[0m 0.3835  \u001b[0m | \u001b[0m 28.04   \u001b[0m | \u001b[0m 0.08804 \u001b[0m | \u001b[0m 6.794   \u001b[0m |\n",
            "| \u001b[95m 8       \u001b[0m | \u001b[95m 0.837   \u001b[0m | \u001b[95m 0.4171  \u001b[0m | \u001b[95m 0.389   \u001b[0m | \u001b[95m 28.56   \u001b[0m | \u001b[95m 0.08793 \u001b[0m | \u001b[95m 3.641   \u001b[0m |\n",
            "| \u001b[0m 9       \u001b[0m | \u001b[0m 0.7593  \u001b[0m | \u001b[0m 0.3899  \u001b[0m | \u001b[0m 0.3968  \u001b[0m | \u001b[0m 27.55   \u001b[0m | \u001b[0m 0.08802 \u001b[0m | \u001b[0m 2.553   \u001b[0m |\n",
            "| \u001b[0m 10      \u001b[0m | \u001b[0m 0.6832  \u001b[0m | \u001b[0m 0.4113  \u001b[0m | \u001b[0m 0.3893  \u001b[0m | \u001b[0m 35.32   \u001b[0m | \u001b[0m 0.08788 \u001b[0m | \u001b[0m 2.109   \u001b[0m |\n",
            "| \u001b[0m 11      \u001b[0m | \u001b[0m 0.7579  \u001b[0m | \u001b[0m 0.4235  \u001b[0m | \u001b[0m 0.4082  \u001b[0m | \u001b[0m 42.03   \u001b[0m | \u001b[0m 0.08802 \u001b[0m | \u001b[0m 4.587   \u001b[0m |\n",
            "| \u001b[0m 12      \u001b[0m | \u001b[0m 0.6718  \u001b[0m | \u001b[0m 0.4216  \u001b[0m | \u001b[0m 0.3802  \u001b[0m | \u001b[0m 30.14   \u001b[0m | \u001b[0m 0.08768 \u001b[0m | \u001b[0m 2.952   \u001b[0m |\n",
            "| \u001b[0m 13      \u001b[0m | \u001b[0m 0.7216  \u001b[0m | \u001b[0m 0.4005  \u001b[0m | \u001b[0m 0.3876  \u001b[0m | \u001b[0m 40.26   \u001b[0m | \u001b[0m 0.0878  \u001b[0m | \u001b[0m 2.686   \u001b[0m |\n",
            "| \u001b[0m 14      \u001b[0m | \u001b[0m 0.8118  \u001b[0m | \u001b[0m 0.4066  \u001b[0m | \u001b[0m 0.3823  \u001b[0m | \u001b[0m 39.84   \u001b[0m | \u001b[0m 0.08769 \u001b[0m | \u001b[0m 6.921   \u001b[0m |\n",
            "| \u001b[0m 15      \u001b[0m | \u001b[0m 0.835   \u001b[0m | \u001b[0m 0.4157  \u001b[0m | \u001b[0m 0.3847  \u001b[0m | \u001b[0m 27.09   \u001b[0m | \u001b[0m 0.08798 \u001b[0m | \u001b[0m 5.241   \u001b[0m |\n",
            "| \u001b[0m 16      \u001b[0m | \u001b[0m 0.8112  \u001b[0m | \u001b[0m 0.414   \u001b[0m | \u001b[0m 0.408   \u001b[0m | \u001b[0m 28.18   \u001b[0m | \u001b[0m 0.0878  \u001b[0m | \u001b[0m 1.695   \u001b[0m |\n",
            "| \u001b[0m 17      \u001b[0m | \u001b[0m 0.7495  \u001b[0m | \u001b[0m 0.4193  \u001b[0m | \u001b[0m 0.402   \u001b[0m | \u001b[0m 32.29   \u001b[0m | \u001b[0m 0.08768 \u001b[0m | \u001b[0m 2.866   \u001b[0m |\n",
            "| \u001b[0m 18      \u001b[0m | \u001b[0m 0.6635  \u001b[0m | \u001b[0m 0.398   \u001b[0m | \u001b[0m 0.4063  \u001b[0m | \u001b[0m 37.2    \u001b[0m | \u001b[0m 0.08801 \u001b[0m | \u001b[0m 3.833   \u001b[0m |\n",
            "| \u001b[0m 19      \u001b[0m | \u001b[0m 0.6412  \u001b[0m | \u001b[0m 0.3898  \u001b[0m | \u001b[0m 0.4056  \u001b[0m | \u001b[0m 39.17   \u001b[0m | \u001b[0m 0.08788 \u001b[0m | \u001b[0m 5.626   \u001b[0m |\n",
            "| \u001b[0m 20      \u001b[0m | \u001b[0m 0.7361  \u001b[0m | \u001b[0m 0.4047  \u001b[0m | \u001b[0m 0.3979  \u001b[0m | \u001b[0m 33.84   \u001b[0m | \u001b[0m 0.08767 \u001b[0m | \u001b[0m 1.647   \u001b[0m |\n",
            "| \u001b[0m 21      \u001b[0m | \u001b[0m 0.746   \u001b[0m | \u001b[0m 0.3863  \u001b[0m | \u001b[0m 0.4025  \u001b[0m | \u001b[0m 32.03   \u001b[0m | \u001b[0m 0.08786 \u001b[0m | \u001b[0m 6.445   \u001b[0m |\n",
            "| \u001b[0m 22      \u001b[0m | \u001b[0m 0.6659  \u001b[0m | \u001b[0m 0.395   \u001b[0m | \u001b[0m 0.3933  \u001b[0m | \u001b[0m 39.09   \u001b[0m | \u001b[0m 0.08775 \u001b[0m | \u001b[0m 1.462   \u001b[0m |\n",
            "| \u001b[0m 23      \u001b[0m | \u001b[0m 0.7536  \u001b[0m | \u001b[0m 0.3966  \u001b[0m | \u001b[0m 0.3831  \u001b[0m | \u001b[0m 41.88   \u001b[0m | \u001b[0m 0.08798 \u001b[0m | \u001b[0m 4.8     \u001b[0m |\n",
            "| \u001b[95m 24      \u001b[0m | \u001b[95m 0.8673  \u001b[0m | \u001b[95m 0.4196  \u001b[0m | \u001b[95m 0.4093  \u001b[0m | \u001b[95m 29.99   \u001b[0m | \u001b[95m 0.08801 \u001b[0m | \u001b[95m 4.236   \u001b[0m |\n",
            "| \u001b[0m 25      \u001b[0m | \u001b[0m 0.8296  \u001b[0m | \u001b[0m 0.4179  \u001b[0m | \u001b[0m 0.4098  \u001b[0m | \u001b[0m 28.99   \u001b[0m | \u001b[0m 0.08806 \u001b[0m | \u001b[0m 4.825   \u001b[0m |\n",
            "=====================================================================================\n"
          ]
        }
      ]
    },
    {
      "cell_type": "code",
      "source": [
        "# Todo"
      ],
      "metadata": {
        "id": "l9pWYqM5mpnO"
      },
      "execution_count": null,
      "outputs": []
    },
    {
      "cell_type": "markdown",
      "source": [
        "# Todo:\n",
        "- Compare with other pruning methods\n",
        "- Compare with no pruning model"
      ],
      "metadata": {
        "id": "N8SDHuFtucEC"
      }
    },
    {
      "cell_type": "code",
      "source": [
        ""
      ],
      "metadata": {
        "id": "MiXZSZDjubJV"
      },
      "execution_count": null,
      "outputs": []
    },
    {
      "cell_type": "code",
      "source": [
        ""
      ],
      "metadata": {
        "id": "MTO-GA_jubK6"
      },
      "execution_count": null,
      "outputs": []
    },
    {
      "cell_type": "code",
      "source": [
        "winner_ticket = optimizer.max\n",
        "winner_mask = fetch_mask(list(winner_ticket['params'].values()))\n",
        "winner_ticket"
      ],
      "metadata": {
        "colab": {
          "base_uri": "https://localhost:8080/"
        },
        "id": "4YAGEmgiFWtX",
        "outputId": "af912b57-351c-4072-8236-43165b0bac2e"
      },
      "execution_count": null,
      "outputs": [
        {
          "output_type": "execute_result",
          "data": {
            "text/plain": [
              "{'params': {'avg_degree_centrality': 0.4064095655875948,\n",
              "  'clustering_coefficient': 0.4177625270029351,\n",
              "  'edge_connectivity': 42.74978680128863,\n",
              "  'eigenvector_centrality': 0.08784128644723256,\n",
              "  'n_cycles': 3.208665738660938},\n",
              " 'target': 0.9257000088691711}"
            ]
          },
          "metadata": {},
          "execution_count": 83
        }
      ]
    },
    {
      "cell_type": "code",
      "source": [
        "winner_mask"
      ],
      "metadata": {
        "colab": {
          "base_uri": "https://localhost:8080/"
        },
        "id": "QaRLABh7FaYZ",
        "outputId": "22373684-8bf4-45b9-a878-45f91e8cfcf4"
      },
      "execution_count": null,
      "outputs": [
        {
          "output_type": "execute_result",
          "data": {
            "text/plain": [
              "tensor([[1, 0, 0,  ..., 0, 0, 1],\n",
              "        [0, 1, 0,  ..., 0, 0, 0],\n",
              "        [0, 0, 0,  ..., 0, 1, 1],\n",
              "        ...,\n",
              "        [0, 0, 0,  ..., 0, 1, 1],\n",
              "        [0, 0, 1,  ..., 1, 1, 0],\n",
              "        [1, 0, 1,  ..., 1, 0, 0]])"
            ]
          },
          "metadata": {},
          "execution_count": 84
        }
      ]
    },
    {
      "cell_type": "markdown",
      "source": [
        "# Baselines"
      ],
      "metadata": {
        "id": "0m_6D-Fe5EXU"
      }
    },
    {
      "cell_type": "code",
      "source": [
        "!git clone https://github.com/jaeho-lee/layer-adaptive-sparsity\n",
        "!mv layer-adaptive-sparsity/* .\n",
        "!rm layer-adaptive-sparsity -r\n",
        "!ls\n",
        "\n",
        "import torch,argparse,random,os\n",
        "import numpy as np\n",
        "from tools import *\n",
        "import torch\n",
        "import torch.nn as nn\n",
        "import torch.nn.functional as F\n",
        "import tqdm\n",
        "\n",
        "seed = 42\n",
        "random.seed(seed)\n",
        "np.random.seed(seed)\n",
        "torch.manual_seed(seed)\n",
        "torch.cuda.manual_seed(seed)\n",
        "torch.cuda.manual_seed_all(seed)"
      ],
      "metadata": {
        "colab": {
          "base_uri": "https://localhost:8080/"
        },
        "id": "hr8_Pp0h5D-x",
        "outputId": "208ea3f6-9f6a-4b7f-c102-8f0e0ae80983"
      },
      "execution_count": null,
      "outputs": [
        {
          "output_type": "stream",
          "name": "stdout",
          "text": [
            "Cloning into 'layer-adaptive-sparsity'...\n",
            "remote: Enumerating objects: 34, done.\u001b[K\n",
            "remote: Counting objects: 100% (34/34), done.\u001b[K\n",
            "remote: Compressing objects: 100% (30/30), done.\u001b[K\n",
            "remote: Total 34 (delta 2), reused 5 (delta 0), pack-reused 0\u001b[K\n",
            "Unpacking objects: 100% (34/34), done.\n",
            "data  iterate.py  README.md  sample_data  tools\n"
          ]
        }
      ]
    },
    {
      "cell_type": "code",
      "source": [
        "PRUNING_METHODS = \"lamp glob unif unifplus erk\".split()        \n",
        "amount_per_it = SPARSITY/3\n",
        "P = PRUNING_METHODS[2]\n",
        "print(f\"Pruning method: {P} | Amount: {amount_per_it}\")\n",
        "pruner = weight_pruner_loader(P)"
      ],
      "metadata": {
        "colab": {
          "base_uri": "https://localhost:8080/"
        },
        "id": "MuKsw9aC5EAn",
        "outputId": "8c981e3a-a81f-479e-dfe7-7f8465ea7d4a"
      },
      "execution_count": null,
      "outputs": [
        {
          "output_type": "stream",
          "name": "stdout",
          "text": [
            "Pruning method: unif | Amount: 0.19999999999999998\n"
          ]
        }
      ]
    },
    {
      "cell_type": "code",
      "source": [
        "model = LogisticRegressionModel(INP_DIM, HIDDEN_DIM, OUTPUT_DIM)\n",
        "print(get_model_sparsity(model))"
      ],
      "metadata": {
        "colab": {
          "base_uri": "https://localhost:8080/"
        },
        "id": "yW-vulgm5ECu",
        "outputId": "30eb2ec2-74f6-4fa5-9994-301f9787d895"
      },
      "execution_count": null,
      "outputs": [
        {
          "output_type": "stream",
          "name": "stdout",
          "text": [
            "1.0\n"
          ]
        }
      ]
    },
    {
      "cell_type": "code",
      "source": [
        "pruner(model, amount_per_it)\n",
        "print(get_model_sparsity(model))"
      ],
      "metadata": {
        "colab": {
          "base_uri": "https://localhost:8080/"
        },
        "id": "JIVAHCVs5EE1",
        "outputId": "57d13bb3-7655-4613-c2c6-45b766790374"
      },
      "execution_count": null,
      "outputs": [
        {
          "output_type": "stream",
          "name": "stdout",
          "text": [
            "0.8000016946854663\n"
          ]
        }
      ]
    },
    {
      "cell_type": "code",
      "source": [
        "_model_performance(model.to(device))"
      ],
      "metadata": {
        "colab": {
          "base_uri": "https://localhost:8080/"
        },
        "id": "l8eqBKPK5c6W",
        "outputId": "e07f9c13-a5e8-4131-a720-0bfadb92039e"
      },
      "execution_count": null,
      "outputs": [
        {
          "output_type": "execute_result",
          "data": {
            "text/plain": [
              "tensor(0.7604)"
            ]
          },
          "metadata": {},
          "execution_count": 119
        }
      ]
    },
    {
      "cell_type": "markdown",
      "source": [
        "# Plot the process"
      ],
      "metadata": {
        "id": "u4evSKvXFXFE"
      }
    },
    {
      "cell_type": "code",
      "source": [
        "def posterior(optimizer, x_obs, y_obs, grid):\n",
        "    optimizer._gp.fit(x_obs, y_obs)\n",
        "\n",
        "    mu, sigma = optimizer._gp.predict(grid, return_std=True)\n",
        "    return mu, sigma\n",
        "\n",
        "def plot_gp(optimizer, x, y):\n",
        "    fig = plt.figure(figsize=(16, 10))\n",
        "    steps = len(optimizer.space)\n",
        "    fig.suptitle(\n",
        "        'Gaussian Process and Utility Function After {} Steps'.format(steps),\n",
        "        fontdict={'size':30}\n",
        "    )\n",
        "    \n",
        "    gs = gridspec.GridSpec(2, 1, height_ratios=[3, 1]) \n",
        "    axis = plt.subplot(gs[0])\n",
        "    acq = plt.subplot(gs[1])\n",
        "    \n",
        "    x_obs = np.array([[res[\"params\"][\"c\"]] for res in optimizer.res])\n",
        "    y_obs = np.array([res[\"target\"] for res in optimizer.res])\n",
        "    \n",
        "    mu, sigma = posterior(optimizer, x_obs, y_obs, x)\n",
        "    axis.plot(x, y, linewidth=3, label='Target')\n",
        "    axis.plot(x_obs.flatten(), y_obs, 'D', markersize=8, label=u'Observations', color='r')\n",
        "    axis.plot(x, mu, '--', color='k', label='Prediction')\n",
        "\n",
        "    axis.fill(np.concatenate([x, x[::-1]]), \n",
        "              np.concatenate([mu - 1.9600 * sigma, (mu + 1.9600 * sigma)[::-1]]),\n",
        "        alpha=.6, fc='c', ec='None', label='95% confidence interval')\n",
        "    \n",
        "    axis.set_xlim((1, 0))\n",
        "    axis.set_ylim((None, None))\n",
        "    axis.set_ylabel('f(x)', fontdict={'size':20})\n",
        "    axis.set_xlabel('x', fontdict={'size':20})\n",
        "    \n",
        "    utility_function = UtilityFunction(kind=\"ucb\", kappa=5, xi=0)\n",
        "    utility = utility_function.utility(x, optimizer._gp, 0)\n",
        "    acq.plot(x, utility, label='Utility Function', color='purple')\n",
        "    acq.plot(x[np.argmax(utility)], np.max(utility), '*', markersize=15, \n",
        "             label=u'Next Best Guess', markerfacecolor='gold', markeredgecolor='k', markeredgewidth=1)\n",
        "    acq.set_xlim((0, 1))\n",
        "    acq.set_ylim((0, np.max(utility) + 0.5))\n",
        "    acq.set_ylabel('Utility', fontdict={'size':20})\n",
        "    acq.set_xlabel('x', fontdict={'size':20})\n",
        "    \n",
        "    axis.legend(loc=2, bbox_to_anchor=(1.01, 1), borderaxespad=0.)\n",
        "    acq.legend(loc=2, bbox_to_anchor=(1.01, 1), borderaxespad=0.)"
      ],
      "metadata": {
        "id": "BSXUwBnUCO1U"
      },
      "execution_count": null,
      "outputs": []
    },
    {
      "cell_type": "code",
      "source": [
        "X = np.linspace(0, 1, 20).reshape(-1, 1)\n",
        "Y = [f(x) for x in tqdm.notebook.tqdm(X)]"
      ],
      "metadata": {
        "colab": {
          "base_uri": "https://localhost:8080/",
          "height": 49,
          "referenced_widgets": [
            "d03f6eb693944e4b909270ab0f7726ff",
            "226e7756fda34163a4c9af2b1515fb27",
            "9796da9b7d45410eb6a2b9b1413158da",
            "c21503b6914e40a7a85560f37ba3ad37",
            "34b25baaadf54e84b25b0e268841881d",
            "0b35b7e4fe564a9986ea0e7a1d364706",
            "159c6e7c5f784c2993ee96666f3a0eda",
            "6243f2cd392d425db198a25e3b69278a",
            "de9eba04ecdb4709aa6c6fe8fb27bf9a",
            "5e518797bf7547ffa0da851daf1028de",
            "cf941422a0c54a19b27b1066866c2fc8"
          ]
        },
        "id": "uasY_a9qDKOI",
        "outputId": "d68d9b7c-7948-4cce-cab3-e87f6d35217d"
      },
      "execution_count": null,
      "outputs": [
        {
          "output_type": "display_data",
          "data": {
            "text/plain": [
              "  0%|          | 0/20 [00:00<?, ?it/s]"
            ],
            "application/vnd.jupyter.widget-view+json": {
              "version_major": 2,
              "version_minor": 0,
              "model_id": "d03f6eb693944e4b909270ab0f7726ff"
            }
          },
          "metadata": {}
        }
      ]
    },
    {
      "cell_type": "code",
      "source": [
        "plt.plot(X, Y)"
      ],
      "metadata": {
        "colab": {
          "base_uri": "https://localhost:8080/",
          "height": 282
        },
        "id": "OQ5YZ-IDERdc",
        "outputId": "f310ac88-f0ba-4736-becd-1721aa9cfe16"
      },
      "execution_count": null,
      "outputs": [
        {
          "output_type": "execute_result",
          "data": {
            "text/plain": [
              "[<matplotlib.lines.Line2D at 0x7fa7b02b3710>]"
            ]
          },
          "metadata": {},
          "execution_count": 93
        },
        {
          "output_type": "display_data",
          "data": {
            "text/plain": [
              "<Figure size 432x288 with 1 Axes>"
            ],
            "image/png": "[encoded data removed]"
          },
          "metadata": {
            "needs_background": "light"
          }
        }
      ]
    },
    {
      "cell_type": "code",
      "source": [
        "from bayes_opt import UtilityFunction\n",
        "plot_gp(optimizer, X, Y)"
      ],
      "metadata": {
        "colab": {
          "base_uri": "https://localhost:8080/",
          "height": 686
        },
        "id": "WNE0gsDbEbVj",
        "outputId": "bec68198-1757-4944-fcaa-98d6f2c2bdfb"
      },
      "execution_count": null,
      "outputs": [
        {
          "output_type": "display_data",
          "data": {
            "text/plain": [
              "<Figure size 1152x720 with 2 Axes>"
            ],
            "image/png": "[encoded data removed]"
          },
          "metadata": {
            "needs_background": "light"
          }
        }
      ]
    },
    {
      "cell_type": "code",
      "source": [
        ""
      ],
      "metadata": {
        "id": "FhBqGggdEhc4"
      },
      "execution_count": null,
      "outputs": []
    }
  ]
}